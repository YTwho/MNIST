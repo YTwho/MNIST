{
 "cells": [
  {
   "cell_type": "markdown",
   "metadata": {
    "colab_type": "text",
    "id": "06E-vqbxU6I0"
   },
   "source": [
    "# Adversarial Attacks#\n",
    "\n",
    "In this report Adversarial Attacks on Neural Networks are considered. \n",
    "\n",
    "- Initially three models are trained using common Convolutional Neural Network architectures. \n",
    "\n",
    "- Then using the resulting weights the Fast Gradient Sign Method is implemented.\n",
    "\n",
    "- The results are then compared for different levels of pertubation for all three architectures.\n"
   ]
  },
  {
   "cell_type": "markdown",
   "metadata": {
    "colab_type": "text",
    "id": "9byGaFAITBdT"
   },
   "source": [
    "## Importing all the libraries ##"
   ]
  },
  {
   "cell_type": "code",
   "execution_count": 2,
   "metadata": {
    "colab": {},
    "colab_type": "code",
    "id": "rrxStl8xTBdW"
   },
   "outputs": [],
   "source": [
    "# Import libraries \n",
    "import torch\n",
    "from torch import nn\n",
    "import torch.nn.functional as F\n",
    "import torch.optim as optim\n",
    "import torchvision\n",
    "import numpy as np\n",
    "import matplotlib.pyplot as plt\n",
    "from torchsummary import summary"
   ]
  },
  {
   "cell_type": "markdown",
   "metadata": {
    "colab_type": "text",
    "id": "C9itkLhsTBdZ"
   },
   "source": [
    "### Defining our Neural Net ###\n"
   ]
  },
  {
   "cell_type": "markdown",
   "metadata": {
    "colab_type": "text",
    "id": "U1ynNZXJdkQI"
   },
   "source": [
    "# Net"
   ]
  },
  {
   "cell_type": "code",
   "execution_count": 3,
   "metadata": {
    "colab": {},
    "colab_type": "code",
    "id": "LW8g_pOAc5lW"
   },
   "outputs": [],
   "source": [
    "# Neural Network Architecture \n",
    "class Net(nn.Module):\n",
    "    def __init__(self):\n",
    "        super(Net, self).__init__()\n",
    "        self.conv1 = nn.Conv2d(3, 64, 3, padding = 1)\n",
    "        self.conv2 = nn.Conv2d(64, 64, 3, padding = 1)\n",
    "        self.conv3 = nn.Conv2d(64, 128, 3, padding = 1)\n",
    "        self.conv4 = nn.Conv2d(128, 128, 3, padding = 1)\n",
    "        self.conv5 = nn.Conv2d(128, 256, 3, padding = 1)\n",
    "        self.conv6 = nn.Conv2d(256, 256, 3, padding = 1)\n",
    "        self.maxpool = nn.MaxPool2d(2, 2)\n",
    "        self.avgpool = nn.AvgPool2d(2, 2)\n",
    "        self.globalavgpool = nn.AvgPool2d(8, 8)\n",
    "        self.bn1 = nn.BatchNorm2d(64)\n",
    "        self.bn2 = nn.BatchNorm2d(128)\n",
    "        self.bn3 = nn.BatchNorm2d(256)\n",
    "        self.dropout50 = nn.Dropout(0.5)\n",
    "        self.dropout10 = nn.Dropout(0.1)\n",
    "        self.fc = nn.Linear(256, 10)\n",
    "\n",
    "# Forward function    \n",
    "    def forward(self, x):\n",
    "        x = F.relu(self.conv1(x))\n",
    "        x = F.relu(self.conv2(x))\n",
    "        x = self.maxpool(x)\n",
    "        x = self.dropout10(x)\n",
    "        x = F.relu(self.conv3(x))\n",
    "        x = F.relu(self.conv4(x))\n",
    "        x = self.avgpool(x)\n",
    "        x = self.dropout10(x)\n",
    "        x = F.relu(self.conv5(x))\n",
    "        x = F.relu(self.conv6(x))\n",
    "        x = self.globalavgpool(x)\n",
    "        x = self.dropout50(x)\n",
    "        x = x.view(x.size(0), -1)\n",
    "        x = self.fc(x)\n",
    "        return x"
   ]
  },
  {
   "cell_type": "markdown",
   "metadata": {
    "colab_type": "text",
    "id": "MC7E7_z1rD8V"
   },
   "source": [
    "Above is a custom architecture the main feautures of this are:\n",
    "\n",
    "- Three stacked convolutional kernals. Stacked convolutional kernals are very useful and serve two main purposes. Dicounting the first layer if we wish to increase the receptive field of a kernal we should stack two layers on top of eachother. Also it adds non-linearity to the model making it more powerful. \n",
    "\n",
    "- Pooling Layers it uses three time average,max and global average pooling. \n",
    "\n",
    "- Uses Relu activation function  this is the default activation function and very fast to compute. It does have some issues but they are mostly addressed by its many variants such as leaky Relu and PRelu\n",
    "\n",
    "- Before the last layer there is a dropout layer to prevent overfitting then the input in flattenend (requires 1D input) so it can be ready for the fully connected layer."
   ]
  },
  {
   "cell_type": "markdown",
   "metadata": {
    "colab_type": "text",
    "id": "paeK9-tTddtv"
   },
   "source": [
    "# LeNet-5\n"
   ]
  },
  {
   "cell_type": "code",
   "execution_count": 4,
   "metadata": {
    "colab": {},
    "colab_type": "code",
    "id": "f4D1NJvITBda"
   },
   "outputs": [],
   "source": [
    "# Neural Net architecture for lenet-5\n",
    "class LeNet(nn.Module):\n",
    "    def __init__(self):\n",
    "        super(LeNet, self).__init__()\n",
    "        self.conv1 = nn.Conv2d(3, 6, 5)\n",
    "        self.conv2 = nn.Conv2d(6, 16, 5)\n",
    "        self.fc1   = nn.Linear(16*5*5, 120)\n",
    "        self.fc2   = nn.Linear(120, 84)\n",
    "        self.fc3   = nn.Linear(84, 10)\n",
    "\n",
    "# Forward function \n",
    "    def forward(self, x):\n",
    "        out = F.relu(self.conv1(x))\n",
    "        out = F.max_pool2d(out, 2)\n",
    "        out = F.relu(self.conv2(out))\n",
    "        out = F.max_pool2d(out, 2)\n",
    "        out = out.view(out.size(0), -1)\n",
    "        out = F.relu(self.fc1(out))\n",
    "        out = F.relu(self.fc2(out))\n",
    "        out = self.fc3(out)\n",
    "        return out"
   ]
  },
  {
   "cell_type": "markdown",
   "metadata": {
    "colab_type": "text",
    "id": "lpKRHHDlrPEP"
   },
   "source": [
    "Above is the architecture of the lenet-5 Neural Net. It is very simple and consists of only a few hidden layers. It is very famous and was used by the banks to check the digits on hand written cheques. "
   ]
  },
  {
   "cell_type": "markdown",
   "metadata": {
    "colab_type": "text",
    "id": "pqyOxCQydXD8"
   },
   "source": [
    "# ResNet#"
   ]
  },
  {
   "cell_type": "code",
   "execution_count": 5,
   "metadata": {
    "colab": {},
    "colab_type": "code",
    "id": "nKJuyM0bdI9j"
   },
   "outputs": [],
   "source": [
    "# Neural Net architecture for ResNet\n",
    "class BasicBlock(nn.Module):\n",
    "    expansion = 1\n",
    "\n",
    "    def __init__(self, in_planes, planes, stride=1):\n",
    "        super(BasicBlock, self).__init__()\n",
    "        self.conv1 = nn.Conv2d(in_planes, planes, kernel_size=3, stride=stride, padding=1, bias=False)\n",
    "        self.bn1 = nn.BatchNorm2d(planes)\n",
    "        self.conv2 = nn.Conv2d(planes, planes, kernel_size=3, stride=1, padding=1, bias=False)\n",
    "        self.bn2 = nn.BatchNorm2d(planes)\n",
    "\n",
    "        self.shortcut = nn.Sequential()\n",
    "        if stride != 1 or in_planes != self.expansion*planes:\n",
    "            self.shortcut = nn.Sequential(\n",
    "                nn.Conv2d(in_planes, self.expansion*planes, kernel_size=1, stride=stride, bias=False),\n",
    "                nn.BatchNorm2d(self.expansion*planes)\n",
    "            )\n",
    "\n",
    "    def forward(self, x):\n",
    "        out = F.relu(self.bn1(self.conv1(x)))\n",
    "        out = self.bn2(self.conv2(out))\n",
    "        out += self.shortcut(x)\n",
    "        out = F.relu(out)\n",
    "        return out\n",
    "\n",
    "\n",
    "class Bottleneck(nn.Module):\n",
    "    expansion = 4\n",
    "\n",
    "    def __init__(self, in_planes, planes, stride=1):\n",
    "        super(Bottleneck, self).__init__()\n",
    "        self.conv1 = nn.Conv2d(in_planes, planes, kernel_size=1, bias=False)\n",
    "        self.bn1 = nn.BatchNorm2d(planes)\n",
    "        self.conv2 = nn.Conv2d(planes, planes, kernel_size=3, stride=stride, padding=1, bias=False)\n",
    "        self.bn2 = nn.BatchNorm2d(planes)\n",
    "        self.conv3 = nn.Conv2d(planes, self.expansion*planes, kernel_size=1, bias=False)\n",
    "        self.bn3 = nn.BatchNorm2d(self.expansion*planes)\n",
    "\n",
    "        self.shortcut = nn.Sequential()\n",
    "        if stride != 1 or in_planes != self.expansion*planes:\n",
    "            self.shortcut = nn.Sequential(\n",
    "                nn.Conv2d(in_planes, self.expansion*planes, kernel_size=1, stride=stride, bias=False),\n",
    "                nn.BatchNorm2d(self.expansion*planes)\n",
    "            )\n",
    "\n",
    "    def forward(self, x):\n",
    "        out = F.relu(self.bn1(self.conv1(x)))\n",
    "        out = F.relu(self.bn2(self.conv2(out)))\n",
    "        out = self.bn3(self.conv3(out))\n",
    "        out += self.shortcut(x)\n",
    "        out = F.relu(out)\n",
    "        return out\n",
    "\n",
    "\n",
    "class ResNet(nn.Module):\n",
    "    def __init__(self, block, num_blocks, num_classes=10):\n",
    "        super(ResNet, self).__init__()\n",
    "        self.in_planes = 64\n",
    "\n",
    "        self.conv1 = nn.Conv2d(3, 64, kernel_size=3, stride=1, padding=1, bias=False)\n",
    "        self.bn1 = nn.BatchNorm2d(64)\n",
    "        self.layer1 = self._make_layer(block, 64, num_blocks[0], stride=1)\n",
    "        self.layer2 = self._make_layer(block, 128, num_blocks[1], stride=2)\n",
    "        self.layer3 = self._make_layer(block, 256, num_blocks[2], stride=2)\n",
    "        self.layer4 = self._make_layer(block, 512, num_blocks[3], stride=2)\n",
    "        self.linear = nn.Linear(512*block.expansion, num_classes)\n",
    "\n",
    "    def _make_layer(self, block, planes, num_blocks, stride):\n",
    "        strides = [stride] + [1]*(num_blocks-1)\n",
    "        layers = []\n",
    "        for stride in strides:\n",
    "            layers.append(block(self.in_planes, planes, stride))\n",
    "            self.in_planes = planes * block.expansion\n",
    "        return nn.Sequential(*layers)\n",
    "\n",
    "    def forward(self, x):\n",
    "        out = F.relu(self.bn1(self.conv1(x)))\n",
    "        out = self.layer1(out)\n",
    "        out = self.layer2(out)\n",
    "        out = self.layer3(out)\n",
    "        out = self.layer4(out)\n",
    "        out = F.avg_pool2d(out, 4)\n",
    "        out = out.view(out.size(0), -1)\n",
    "        out = self.linear(out)\n",
    "        return out\n",
    "\n",
    "\n",
    "def ResNet18():\n",
    "    return ResNet(BasicBlock, [2,2,2,2])"
   ]
  },
  {
   "cell_type": "markdown",
   "metadata": {
    "colab_type": "text",
    "id": "McCx0I7LrSxe"
   },
   "source": [
    "This is the ResNet architecture. It is somewhat more complicated then the preceding Networks. Also it is not a simple FeedFoward Network, where layers are only connected to preceeding layers. We have skip layers now. "
   ]
  },
  {
   "cell_type": "markdown",
   "metadata": {
    "colab_type": "text",
    "id": "xZba06glTBdd"
   },
   "source": [
    "## Define FGSM function"
   ]
  },
  {
   "cell_type": "markdown",
   "metadata": {
    "colab_type": "text",
    "id": "L6fMf332KLgH"
   },
   "source": [
    "An Adversarial Attack is an attempt to cause a classifier to misclassify an image that it is presented with. Whilst Neural Networks are incredibly powerful and have unrivalled classification rates it is remarkably simple to fool them to misclassify the image they are shown.Part of the problem with Neural Nets is there interpretability.  Humans can perceive things in a way that Neural Nets cannot, but do not think humans cannot be tricked there are numerous illusions that many will be familiar with.  This is a problem if we consider the modern world and AI for example self-driving cars. \n",
    "\n",
    "There are several cases or types of attack that can be considered. For instance are we interested in the output class of the image or do we simply require that the image is misclassified ?\n",
    "\n",
    "Do we have information such as the architecture and weights of the model we wish to fool, or do we just know the output and input classes?\n",
    "\n",
    "The approach we pursue will depend on the answers to the above and are summarised below.\n",
    "Targeted (Here we want to fool the classifier to a specific class) / Untargeted (We do not care about the output class just that it is different from the ground truth) / Black box (Nothing about the model weights or its architecture is known only the corresponding inputs and outputs) / White box (All the details of the model are known) \n",
    "\n",
    "A single channel 28x28 image is made up of 784 pixels each pixel is represented by its intensity 0-255. \n",
    "We wish to fool a classifier subject to the requirement that any alteration that we make to the image be minimal. A norm that penalises changes is needed. Some commonly used are the p norm or l norm. \n",
    "The perturbation applied should be imperceptible, that is a human looking at the image should not be able to see the input has been tampered with.\n",
    "A successful attack is one which fools the classifier without being noticed by the user. \n"
   ]
  },
  {
   "cell_type": "markdown",
   "metadata": {
    "colab_type": "text",
    "id": "1wdlW53-rYCQ"
   },
   "source": [
    "Here is the fgsm function from the pytorch tutorial. \n",
    "\n",
    "The function takes three arguments the base image epsilon the amount of pertubation and the data_gradient. "
   ]
  },
  {
   "cell_type": "code",
   "execution_count": 0,
   "metadata": {
    "colab": {},
    "colab_type": "code",
    "id": "mPg2dRPMTBde"
   },
   "outputs": [],
   "source": [
    "def fgsm_attack(image, epsilon, data_grad):\n",
    "    # Collect the element-wise sign of the data gradient\n",
    "    sign_data_grad = data_grad.sign()\n",
    "    # Create the perturbed image by adjusting each pixel of the input image\n",
    "    perturbed_image = image + epsilon*sign_data_grad\n",
    "    # Adding clipping to maintain [0,1] range\n",
    "    perturbed_image = torch.clamp(perturbed_image, 0, 1)\n",
    "    # Return the perturbed image\n",
    "    return perturbed_image"
   ]
  },
  {
   "cell_type": "markdown",
   "metadata": {
    "colab_type": "text",
    "id": "E5GiEiaJTBdh"
   },
   "source": [
    "## Importing Data and Transform"
   ]
  },
  {
   "cell_type": "markdown",
   "metadata": {
    "colab_type": "text",
    "id": "TK8OvYzlsE3i"
   },
   "source": [
    "Torchvision is used to import the data and is used so that we do not need to worry about the preprocessing of the data. It is a very useful tool especially if you are interested in quickly validating your model using a well known dataset.  \n",
    "\n",
    "Data Augmentation \n",
    "\n",
    "- To train a deep Neural Net a large amount of labelled training data is required in the literature around 100K is an often referenced number. This sometimes is often not possible so data augamentation can be used to artificially increase the size of the training data. This is done by applying transformations, rotations and changing the contrast of images. It can increase the size of the data set by around 50x and makes the network invariant to small changes. It regularizes the model and stops overfitting. \n",
    "\n"
   ]
  },
  {
   "cell_type": "code",
   "execution_count": 0,
   "metadata": {
    "colab": {},
    "colab_type": "code",
    "id": "4XUcEjFWwnH8"
   },
   "outputs": [],
   "source": [
    "import imgaug.augmenters as iaa\n",
    "import numpy as np\n",
    "from torchvision import datasets, transforms\n",
    "from torch.utils.data import DataLoader\n",
    "\n",
    "pic_size = 32\n",
    "aug = iaa.Sequential([\n",
    "        iaa.Affine(\n",
    "        scale=(0.8, 1.2), \n",
    "        rotate=(-5, 5), \n",
    "        order=[0],),\n",
    "        iaa.PadToFixedSize(pic_size, pic_size),\n",
    "        iaa.CropToFixedSize(pic_size, pic_size),\n",
    "        iaa.Sometimes(0.5, iaa.GaussianBlur(sigma=1.0)),\n",
    "        iaa.Sometimes(0.5, iaa.SaltAndPepper(0.06, per_channel=True)),\n",
    "        ])"
   ]
  },
  {
   "cell_type": "code",
   "execution_count": 0,
   "metadata": {
    "colab": {},
    "colab_type": "code",
    "id": "L_OIU2E2wnVq"
   },
   "outputs": [],
   "source": [
    "class CIFAR10_iaa(datasets.CIFAR10):\n",
    "    def __getitem__(self, idx):\n",
    "        pil, target = super().__getitem__(idx)\n",
    "        img = aug(image=np.array(pil)) / 255\n",
    "        return img.transpose((2, 0, 1)), target"
   ]
  },
  {
   "cell_type": "code",
   "execution_count": 0,
   "metadata": {
    "colab": {
     "base_uri": "https://localhost:8080/",
     "height": 52
    },
    "colab_type": "code",
    "id": "WPKLx5ioTBdi",
    "outputId": "a2ae1675-e8ea-4752-dc13-20aacb11cbd7"
   },
   "outputs": [
    {
     "name": "stdout",
     "output_type": "stream",
     "text": [
      "Files already downloaded and verified\n",
      "Files already downloaded and verified\n"
     ]
    }
   ],
   "source": [
    "from torchvision import datasets, transforms\n",
    "from torch.utils.data import DataLoader\n",
    "\n",
    "# Enter the training and testing batch size \n",
    "train_batch_size = 100\n",
    "test_batch_size = 1\n",
    "\n",
    "# To use autgrad we must convert to tensor\n",
    "transform = transforms.Compose(\n",
    "    [transforms.ToTensor(),])\n",
    "\n",
    "# Import CIFAR10 and specify batch size \n",
    "\n",
    "# Training data\n",
    "trainset = datasets.CIFAR10(root='./data', train=True, download=True, transform=transform)\n",
    "trainloader = DataLoader(trainset, batch_size=train_batch_size, shuffle=True, num_workers=2)\n",
    "\n",
    "# Testing data\n",
    "testset = datasets.CIFAR10(root='./data', train=False, download=True, transform=transform)\n",
    "testloader = DataLoader(testset, batch_size=test_batch_size, shuffle=False, num_workers=2)\n",
    "\n",
    "# Specify the classes in the dataset \n",
    "classes = ('plane', 'car', 'bird', 'cat',\n",
    "           'deer', 'dog', 'frog', 'horse', 'ship', 'truck')"
   ]
  },
  {
   "cell_type": "markdown",
   "metadata": {
    "colab_type": "text",
    "id": "hiUDjav-TBdm"
   },
   "source": [
    "## Training of model"
   ]
  },
  {
   "cell_type": "markdown",
   "metadata": {
    "colab_type": "text",
    "id": "fEKwo-zbTBdm"
   },
   "source": [
    "### Init Net and Device"
   ]
  },
  {
   "cell_type": "code",
   "execution_count": 0,
   "metadata": {
    "colab": {},
    "colab_type": "code",
    "id": "JnUi83FXTBdn"
   },
   "outputs": [],
   "source": [
    "# Use the GPU if available to speed up training \n",
    "device = torch.device(\"cuda:0\" if torch.cuda.is_available() else \"cpu\")\n",
    "# device = torch.device(\"cuda:2\")\n",
    "net = Net().train().to(device)\n",
    "lenet = LeNet().train().to(device)\n",
    "resnet = ResNet18().train().to(device)"
   ]
  },
  {
   "cell_type": "markdown",
   "metadata": {
    "colab_type": "text",
    "id": "dW01rjiSW-EH"
   },
   "source": [
    "###Summary of the architecture for all three networks###"
   ]
  },
  {
   "cell_type": "code",
   "execution_count": 0,
   "metadata": {
    "colab": {
     "base_uri": "https://localhost:8080/",
     "height": 479
    },
    "colab_type": "code",
    "id": "LbBhX_FpchHx",
    "outputId": "1e327023-331e-45ec-ec3a-154c975eaf96"
   },
   "outputs": [
    {
     "name": "stdout",
     "output_type": "stream",
     "text": [
      "----------------------------------------------------------------\n",
      "        Layer (type)               Output Shape         Param #\n",
      "================================================================\n",
      "            Conv2d-1           [-1, 64, 32, 32]           1,792\n",
      "            Conv2d-2           [-1, 64, 32, 32]          36,928\n",
      "         MaxPool2d-3           [-1, 64, 16, 16]               0\n",
      "           Dropout-4           [-1, 64, 16, 16]               0\n",
      "            Conv2d-5          [-1, 128, 16, 16]          73,856\n",
      "            Conv2d-6          [-1, 128, 16, 16]         147,584\n",
      "         AvgPool2d-7            [-1, 128, 8, 8]               0\n",
      "           Dropout-8            [-1, 128, 8, 8]               0\n",
      "            Conv2d-9            [-1, 256, 8, 8]         295,168\n",
      "           Conv2d-10            [-1, 256, 8, 8]         590,080\n",
      "        AvgPool2d-11            [-1, 256, 1, 1]               0\n",
      "          Dropout-12            [-1, 256, 1, 1]               0\n",
      "           Linear-13                   [-1, 10]           2,570\n",
      "================================================================\n",
      "Total params: 1,147,978\n",
      "Trainable params: 1,147,978\n",
      "Non-trainable params: 0\n",
      "----------------------------------------------------------------\n",
      "Input size (MB): 0.01\n",
      "Forward/backward pass size (MB): 2.13\n",
      "Params size (MB): 4.38\n",
      "Estimated Total Size (MB): 6.52\n",
      "----------------------------------------------------------------\n"
     ]
    }
   ],
   "source": [
    "summary(net,(3,32,32))"
   ]
  },
  {
   "cell_type": "code",
   "execution_count": 0,
   "metadata": {
    "colab": {
     "base_uri": "https://localhost:8080/",
     "height": 337
    },
    "colab_type": "code",
    "id": "ZBBJHHJLcu_0",
    "outputId": "5365a00a-e29a-47e7-eaa0-2bbafa36d888"
   },
   "outputs": [
    {
     "name": "stdout",
     "output_type": "stream",
     "text": [
      "----------------------------------------------------------------\n",
      "        Layer (type)               Output Shape         Param #\n",
      "================================================================\n",
      "            Conv2d-1            [-1, 6, 28, 28]             456\n",
      "            Conv2d-2           [-1, 16, 10, 10]           2,416\n",
      "            Linear-3                  [-1, 120]          48,120\n",
      "            Linear-4                   [-1, 84]          10,164\n",
      "            Linear-5                   [-1, 10]             850\n",
      "================================================================\n",
      "Total params: 62,006\n",
      "Trainable params: 62,006\n",
      "Non-trainable params: 0\n",
      "----------------------------------------------------------------\n",
      "Input size (MB): 0.01\n",
      "Forward/backward pass size (MB): 0.05\n",
      "Params size (MB): 0.24\n",
      "Estimated Total Size (MB): 0.30\n",
      "----------------------------------------------------------------\n"
     ]
    }
   ],
   "source": [
    "summary(lenet,(3,32,32))"
   ]
  },
  {
   "cell_type": "code",
   "execution_count": 0,
   "metadata": {
    "colab": {
     "base_uri": "https://localhost:8080/",
     "height": 1000
    },
    "colab_type": "code",
    "id": "yRnFy7x6c3b5",
    "outputId": "b9f73200-faae-4ae6-8798-0c03a719a7ff"
   },
   "outputs": [
    {
     "name": "stdout",
     "output_type": "stream",
     "text": [
      "----------------------------------------------------------------\n",
      "        Layer (type)               Output Shape         Param #\n",
      "================================================================\n",
      "            Conv2d-1           [-1, 64, 32, 32]           1,728\n",
      "       BatchNorm2d-2           [-1, 64, 32, 32]             128\n",
      "            Conv2d-3           [-1, 64, 32, 32]          36,864\n",
      "       BatchNorm2d-4           [-1, 64, 32, 32]             128\n",
      "            Conv2d-5           [-1, 64, 32, 32]          36,864\n",
      "       BatchNorm2d-6           [-1, 64, 32, 32]             128\n",
      "        BasicBlock-7           [-1, 64, 32, 32]               0\n",
      "            Conv2d-8           [-1, 64, 32, 32]          36,864\n",
      "       BatchNorm2d-9           [-1, 64, 32, 32]             128\n",
      "           Conv2d-10           [-1, 64, 32, 32]          36,864\n",
      "      BatchNorm2d-11           [-1, 64, 32, 32]             128\n",
      "       BasicBlock-12           [-1, 64, 32, 32]               0\n",
      "           Conv2d-13          [-1, 128, 16, 16]          73,728\n",
      "      BatchNorm2d-14          [-1, 128, 16, 16]             256\n",
      "           Conv2d-15          [-1, 128, 16, 16]         147,456\n",
      "      BatchNorm2d-16          [-1, 128, 16, 16]             256\n",
      "           Conv2d-17          [-1, 128, 16, 16]           8,192\n",
      "      BatchNorm2d-18          [-1, 128, 16, 16]             256\n",
      "       BasicBlock-19          [-1, 128, 16, 16]               0\n",
      "           Conv2d-20          [-1, 128, 16, 16]         147,456\n",
      "      BatchNorm2d-21          [-1, 128, 16, 16]             256\n",
      "           Conv2d-22          [-1, 128, 16, 16]         147,456\n",
      "      BatchNorm2d-23          [-1, 128, 16, 16]             256\n",
      "       BasicBlock-24          [-1, 128, 16, 16]               0\n",
      "           Conv2d-25            [-1, 256, 8, 8]         294,912\n",
      "      BatchNorm2d-26            [-1, 256, 8, 8]             512\n",
      "           Conv2d-27            [-1, 256, 8, 8]         589,824\n",
      "      BatchNorm2d-28            [-1, 256, 8, 8]             512\n",
      "           Conv2d-29            [-1, 256, 8, 8]          32,768\n",
      "      BatchNorm2d-30            [-1, 256, 8, 8]             512\n",
      "       BasicBlock-31            [-1, 256, 8, 8]               0\n",
      "           Conv2d-32            [-1, 256, 8, 8]         589,824\n",
      "      BatchNorm2d-33            [-1, 256, 8, 8]             512\n",
      "           Conv2d-34            [-1, 256, 8, 8]         589,824\n",
      "      BatchNorm2d-35            [-1, 256, 8, 8]             512\n",
      "       BasicBlock-36            [-1, 256, 8, 8]               0\n",
      "           Conv2d-37            [-1, 512, 4, 4]       1,179,648\n",
      "      BatchNorm2d-38            [-1, 512, 4, 4]           1,024\n",
      "           Conv2d-39            [-1, 512, 4, 4]       2,359,296\n",
      "      BatchNorm2d-40            [-1, 512, 4, 4]           1,024\n",
      "           Conv2d-41            [-1, 512, 4, 4]         131,072\n",
      "      BatchNorm2d-42            [-1, 512, 4, 4]           1,024\n",
      "       BasicBlock-43            [-1, 512, 4, 4]               0\n",
      "           Conv2d-44            [-1, 512, 4, 4]       2,359,296\n",
      "      BatchNorm2d-45            [-1, 512, 4, 4]           1,024\n",
      "           Conv2d-46            [-1, 512, 4, 4]       2,359,296\n",
      "      BatchNorm2d-47            [-1, 512, 4, 4]           1,024\n",
      "       BasicBlock-48            [-1, 512, 4, 4]               0\n",
      "           Linear-49                   [-1, 10]           5,130\n",
      "================================================================\n",
      "Total params: 11,173,962\n",
      "Trainable params: 11,173,962\n",
      "Non-trainable params: 0\n",
      "----------------------------------------------------------------\n",
      "Input size (MB): 0.01\n",
      "Forward/backward pass size (MB): 11.25\n",
      "Params size (MB): 42.63\n",
      "Estimated Total Size (MB): 53.89\n",
      "----------------------------------------------------------------\n"
     ]
    }
   ],
   "source": [
    "summary(resnet,(3,32,32))"
   ]
  },
  {
   "cell_type": "markdown",
   "metadata": {
    "colab_type": "text",
    "id": "CK1y3JpdTBdq"
   },
   "source": [
    "### Selecting the loss function and optimizer\n"
   ]
  },
  {
   "cell_type": "markdown",
   "metadata": {
    "colab_type": "text",
    "id": "cO_1hCNcMsPF"
   },
   "source": [
    "Selecting the optimiser is very important on large data sets using gradient descent or batch gradient descent is not feasible so we must select another. The default is Stochastic Gradient Descent here Adam is used there are others available and can be experimented with such as RMSPROP, gradient descent with momentum, nestorov gradient descent, nadam and ADAgrad.\n",
    "\n",
    "Adam is an adaptive variant of Stochastic Gradient Descent. It utilises different learning rates for different parameters.\n",
    "\n",
    "Also we can see cross entropy loss is used. Cross entropy measures and penalizes our model depending on whether its prediction matches the base truth and the strength of this prediction."
   ]
  },
  {
   "cell_type": "code",
   "execution_count": 0,
   "metadata": {
    "colab": {},
    "colab_type": "code",
    "id": "TWWa3tO_TBdr"
   },
   "outputs": [],
   "source": [
    "import torch.optim as optim\n",
    "criterion = nn.CrossEntropyLoss()\n",
    "optimizer_net = optim.Adam(net.parameters(), lr=0.001)\n",
    "optimizer_lenet = optim.Adam(lenet.parameters(), lr=0.001)\n",
    "optimizer_resnet = optim.Adam(resnet.parameters(), lr=0.001)"
   ]
  },
  {
   "cell_type": "markdown",
   "metadata": {
    "colab_type": "text",
    "id": "wdjms6miTBdv"
   },
   "source": [
    "### Training and saving the weights of the each model"
   ]
  },
  {
   "cell_type": "code",
   "execution_count": 0,
   "metadata": {
    "colab": {
     "base_uri": "https://localhost:8080/",
     "height": 959
    },
    "colab_type": "code",
    "id": "3GmLoCeKTBdw",
    "outputId": "0d2429ac-d4a3-450a-f631-755e0ed0ad6e"
   },
   "outputs": [
    {
     "name": "stdout",
     "output_type": "stream",
     "text": [
      "[1, 10000] loss: 1.9794\n",
      "[1, 20000] loss: 1.9483\n",
      "[1, 30000] loss: 1.8016\n",
      "[1, 40000] loss: 1.6917\n",
      "[1, 50000] loss: 1.7501\n",
      "[2, 10000] loss: 1.3842\n",
      "[2, 20000] loss: 1.6629\n",
      "[2, 30000] loss: 1.5884\n",
      "[2, 40000] loss: 1.3742\n",
      "[2, 50000] loss: 1.4393\n",
      "[3, 10000] loss: 1.4833\n",
      "[3, 20000] loss: 1.3559\n",
      "[3, 30000] loss: 1.1429\n",
      "[3, 40000] loss: 1.1664\n",
      "[3, 50000] loss: 1.2280\n",
      "[4, 10000] loss: 1.0342\n",
      "[4, 20000] loss: 1.2945\n",
      "[4, 30000] loss: 1.1462\n",
      "[4, 40000] loss: 1.0342\n",
      "[4, 50000] loss: 0.8614\n",
      "[5, 10000] loss: 1.0971\n",
      "[5, 20000] loss: 1.2550\n",
      "[5, 30000] loss: 0.8473\n",
      "[5, 40000] loss: 1.0403\n",
      "[5, 50000] loss: 1.2601\n",
      "[6, 10000] loss: 0.7751\n",
      "[6, 20000] loss: 0.9899\n",
      "[6, 30000] loss: 0.9269\n",
      "[6, 40000] loss: 0.9521\n",
      "[6, 50000] loss: 1.2919\n",
      "[7, 10000] loss: 0.9530\n",
      "[7, 20000] loss: 0.9641\n",
      "[7, 30000] loss: 0.8921\n",
      "[7, 40000] loss: 0.6856\n",
      "[7, 50000] loss: 0.7589\n",
      "[8, 10000] loss: 0.7285\n",
      "[8, 20000] loss: 0.7976\n",
      "[8, 30000] loss: 0.6965\n",
      "[8, 40000] loss: 0.7635\n",
      "[8, 50000] loss: 0.8023\n",
      "[9, 10000] loss: 0.9185\n",
      "[9, 20000] loss: 0.6368\n",
      "[9, 30000] loss: 0.7355\n",
      "[9, 40000] loss: 0.6758\n",
      "[9, 50000] loss: 0.6488\n",
      "[10, 10000] loss: 0.7441\n",
      "[10, 20000] loss: 0.5992\n",
      "[10, 30000] loss: 0.7202\n",
      "[10, 40000] loss: 0.7651\n",
      "[10, 50000] loss: 0.6698\n",
      "Finished Training\n",
      "CPU times: user 3min 13s, sys: 1min 37s, total: 4min 50s\n",
      "Wall time: 5min 2s\n"
     ]
    }
   ],
   "source": [
    "%%time\n",
    "epochs = 10\n",
    "for epoch in range(epochs):\n",
    "    running_loss = 0.\n",
    "    for i, data in enumerate(trainloader):\n",
    "        \n",
    "        inputs, labels = data\n",
    "        inputs, labels = inputs.to(device), labels.to(device)\n",
    "        \n",
    "        optimizer_net.zero_grad()\n",
    "        \n",
    "        outputs = net(inputs)\n",
    "        loss = criterion(outputs, labels)\n",
    "        loss.backward()\n",
    "        optimizer_net.step()\n",
    "        \n",
    "        if (i+1) % 100 == 0:\n",
    "            print('[%d, %5d] loss: %.4f' %(epoch + 1, (i+1)*train_batch_size, loss.item()))\n",
    "\n",
    "print('Finished Training')\n",
    "torch.save(net.state_dict(), './cifar10_net.pth')"
   ]
  },
  {
   "cell_type": "code",
   "execution_count": 0,
   "metadata": {
    "colab": {
     "base_uri": "https://localhost:8080/",
     "height": 959
    },
    "colab_type": "code",
    "id": "KhGjT-WPeXX5",
    "outputId": "9088cc40-7b1b-4267-eec1-55490988abf0"
   },
   "outputs": [
    {
     "name": "stdout",
     "output_type": "stream",
     "text": [
      "[1, 10000] loss: 1.9930\n",
      "[1, 20000] loss: 1.8100\n",
      "[1, 30000] loss: 1.7825\n",
      "[1, 40000] loss: 1.6510\n",
      "[1, 50000] loss: 1.6233\n",
      "[2, 10000] loss: 1.5035\n",
      "[2, 20000] loss: 1.4824\n",
      "[2, 30000] loss: 1.4886\n",
      "[2, 40000] loss: 1.3122\n",
      "[2, 50000] loss: 1.2867\n",
      "[3, 10000] loss: 1.4510\n",
      "[3, 20000] loss: 1.2409\n",
      "[3, 30000] loss: 1.3712\n",
      "[3, 40000] loss: 1.4429\n",
      "[3, 50000] loss: 1.4198\n",
      "[4, 10000] loss: 1.4119\n",
      "[4, 20000] loss: 1.5028\n",
      "[4, 30000] loss: 1.2956\n",
      "[4, 40000] loss: 1.3181\n",
      "[4, 50000] loss: 1.3297\n",
      "[5, 10000] loss: 1.3137\n",
      "[5, 20000] loss: 1.0425\n",
      "[5, 30000] loss: 1.2288\n",
      "[5, 40000] loss: 1.1652\n",
      "[5, 50000] loss: 1.4083\n",
      "[6, 10000] loss: 1.1667\n",
      "[6, 20000] loss: 1.0497\n",
      "[6, 30000] loss: 1.2147\n",
      "[6, 40000] loss: 1.3319\n",
      "[6, 50000] loss: 1.2546\n",
      "[7, 10000] loss: 1.1850\n",
      "[7, 20000] loss: 1.1473\n",
      "[7, 30000] loss: 1.0790\n",
      "[7, 40000] loss: 1.0777\n",
      "[7, 50000] loss: 1.2354\n",
      "[8, 10000] loss: 1.3227\n",
      "[8, 20000] loss: 1.0755\n",
      "[8, 30000] loss: 1.1222\n",
      "[8, 40000] loss: 1.0981\n",
      "[8, 50000] loss: 1.1270\n",
      "[9, 10000] loss: 1.0792\n",
      "[9, 20000] loss: 1.1112\n",
      "[9, 30000] loss: 1.0896\n",
      "[9, 40000] loss: 1.0656\n",
      "[9, 50000] loss: 1.2149\n",
      "[10, 10000] loss: 0.9684\n",
      "[10, 20000] loss: 0.9712\n",
      "[10, 30000] loss: 1.2798\n",
      "[10, 40000] loss: 1.0272\n",
      "[10, 50000] loss: 0.9720\n",
      "Finished Training\n",
      "CPU times: user 58.9 s, sys: 5.7 s, total: 1min 4s\n",
      "Wall time: 2min 8s\n"
     ]
    }
   ],
   "source": [
    "%%time\n",
    "epochs = 10\n",
    "for epoch in range(epochs):\n",
    "    running_loss = 0.\n",
    "    for i, data in enumerate(trainloader):\n",
    "        \n",
    "        inputs, labels = data\n",
    "        inputs, labels = inputs.to(device), labels.to(device)\n",
    "        \n",
    "        optimizer_lenet.zero_grad()\n",
    "        \n",
    "        outputs = lenet(inputs)\n",
    "        loss = criterion(outputs, labels)\n",
    "        loss.backward()\n",
    "        optimizer_lenet.step()\n",
    "        \n",
    "        if (i+1) % 100 == 0:\n",
    "            print('[%d, %5d] loss: %.4f' %(epoch + 1, (i+1)*train_batch_size, loss.item()))\n",
    "\n",
    "print('Finished Training')\n",
    "torch.save(lenet.state_dict(), './cifar10_lenet.pth')"
   ]
  },
  {
   "cell_type": "code",
   "execution_count": 0,
   "metadata": {
    "colab": {
     "base_uri": "https://localhost:8080/",
     "height": 959
    },
    "colab_type": "code",
    "id": "r2qS-QkxeXJ9",
    "outputId": "2e55c08c-af86-4c7d-bd3f-e7479618826c"
   },
   "outputs": [
    {
     "name": "stdout",
     "output_type": "stream",
     "text": [
      "[1, 10000] loss: 1.5089\n",
      "[1, 20000] loss: 1.3168\n",
      "[1, 30000] loss: 1.0204\n",
      "[1, 40000] loss: 1.1253\n",
      "[1, 50000] loss: 0.9807\n",
      "[2, 10000] loss: 0.9102\n",
      "[2, 20000] loss: 0.9501\n",
      "[2, 30000] loss: 0.7660\n",
      "[2, 40000] loss: 0.7343\n",
      "[2, 50000] loss: 0.7737\n",
      "[3, 10000] loss: 0.6693\n",
      "[3, 20000] loss: 0.4889\n",
      "[3, 30000] loss: 0.6973\n",
      "[3, 40000] loss: 0.4404\n",
      "[3, 50000] loss: 0.4643\n",
      "[4, 10000] loss: 0.5019\n",
      "[4, 20000] loss: 0.6043\n",
      "[4, 30000] loss: 0.5739\n",
      "[4, 40000] loss: 0.4379\n",
      "[4, 50000] loss: 0.3641\n",
      "[5, 10000] loss: 0.6298\n",
      "[5, 20000] loss: 0.3980\n",
      "[5, 30000] loss: 0.3773\n",
      "[5, 40000] loss: 0.5306\n",
      "[5, 50000] loss: 0.2381\n",
      "[6, 10000] loss: 0.3737\n",
      "[6, 20000] loss: 0.2025\n",
      "[6, 30000] loss: 0.3339\n",
      "[6, 40000] loss: 0.3689\n",
      "[6, 50000] loss: 0.4358\n",
      "[7, 10000] loss: 0.1961\n",
      "[7, 20000] loss: 0.1781\n",
      "[7, 30000] loss: 0.2591\n",
      "[7, 40000] loss: 0.1740\n",
      "[7, 50000] loss: 0.2989\n",
      "[8, 10000] loss: 0.1120\n",
      "[8, 20000] loss: 0.1174\n",
      "[8, 30000] loss: 0.2890\n",
      "[8, 40000] loss: 0.1232\n",
      "[8, 50000] loss: 0.3048\n",
      "[9, 10000] loss: 0.0835\n",
      "[9, 20000] loss: 0.0962\n",
      "[9, 30000] loss: 0.2058\n",
      "[9, 40000] loss: 0.1905\n",
      "[9, 50000] loss: 0.2863\n",
      "[10, 10000] loss: 0.0711\n",
      "[10, 20000] loss: 0.0894\n",
      "[10, 30000] loss: 0.1055\n",
      "[10, 40000] loss: 0.0698\n",
      "[10, 50000] loss: 0.2029\n",
      "Finished Training\n",
      "CPU times: user 17min 57s, sys: 11min 4s, total: 29min 2s\n",
      "Wall time: 29min 21s\n"
     ]
    }
   ],
   "source": [
    "%%time\n",
    "epochs = 10\n",
    "for epoch in range(epochs):\n",
    "    running_loss = 0.\n",
    "    for i, data in enumerate(trainloader):\n",
    "        \n",
    "        inputs, labels = data\n",
    "        inputs, labels = inputs.to(device), labels.to(device)\n",
    "        \n",
    "        optimizer_resnet.zero_grad()\n",
    "        \n",
    "        outputs = resnet(inputs)\n",
    "        loss = criterion(outputs, labels)\n",
    "        loss.backward()\n",
    "        optimizer_resnet.step()\n",
    "        \n",
    "        if (i+1) % 100 == 0:\n",
    "            print('[%d, %5d] loss: %.4f' %(epoch + 1, (i+1)*train_batch_size, loss.item()))\n",
    "\n",
    "print('Finished Training')\n",
    "torch.save(resnet.state_dict(), './cifar10_resnet.pth')"
   ]
  },
  {
   "cell_type": "markdown",
   "metadata": {
    "colab_type": "text",
    "id": "efNOMWi6TBdy"
   },
   "source": [
    "### Load weights"
   ]
  },
  {
   "cell_type": "code",
   "execution_count": 0,
   "metadata": {
    "colab": {
     "base_uri": "https://localhost:8080/",
     "height": 35
    },
    "colab_type": "code",
    "id": "aM_4kItLTBdz",
    "outputId": "0b8062c9-70e7-42f0-8a69-a8757d33b64d"
   },
   "outputs": [
    {
     "data": {
      "text/plain": [
       "<All keys matched successfully>"
      ]
     },
     "execution_count": 20,
     "metadata": {
      "tags": []
     },
     "output_type": "execute_result"
    }
   ],
   "source": [
    "# Loading the weights of the pretrained models\n",
    "net.load_state_dict(torch.load('./cifar10_net.pth', map_location='cpu'))\n",
    "lenet.load_state_dict(torch.load('./cifar10_lenet.pth', map_location='cpu'))\n",
    "resnet.load_state_dict(torch.load('./cifar10_resnet.pth', map_location='cpu'))"
   ]
  },
  {
   "cell_type": "markdown",
   "metadata": {
    "colab_type": "text",
    "id": "CQcq1buFTBd3"
   },
   "source": [
    "### Evaluate the mode & fix the weights"
   ]
  },
  {
   "cell_type": "code",
   "execution_count": 0,
   "metadata": {
    "colab": {},
    "colab_type": "code",
    "id": "f7EBNe3gTBd3"
   },
   "outputs": [],
   "source": [
    "net.eval()\n",
    "for p in net.parameters():\n",
    "    p.requires_grad = False"
   ]
  },
  {
   "cell_type": "code",
   "execution_count": 0,
   "metadata": {
    "colab": {},
    "colab_type": "code",
    "id": "0w3kS_6pfzfm"
   },
   "outputs": [],
   "source": [
    "lenet.eval()\n",
    "for p in lenet.parameters():\n",
    "    p.requires_grad = False"
   ]
  },
  {
   "cell_type": "code",
   "execution_count": 0,
   "metadata": {
    "colab": {},
    "colab_type": "code",
    "id": "TqDus0GsfzQh"
   },
   "outputs": [],
   "source": [
    "resnet.eval()\n",
    "for p in resnet.parameters():\n",
    "    p.requires_grad = False"
   ]
  },
  {
   "cell_type": "markdown",
   "metadata": {
    "colab_type": "text",
    "id": "NZ3JlHBeTBd6"
   },
   "source": [
    "### Accuracy of the Net model "
   ]
  },
  {
   "cell_type": "code",
   "execution_count": 0,
   "metadata": {
    "colab": {
     "base_uri": "https://localhost:8080/",
     "height": 212
    },
    "colab_type": "code",
    "id": "KRV81qDyTBd6",
    "outputId": "dd2ba748-b569-4115-f06b-6d9ccf4e8b6f"
   },
   "outputs": [
    {
     "name": "stdout",
     "output_type": "stream",
     "text": [
      "Accuracy of the Net network on the 10000 test images: 77 %\n",
      "Net Network: Accuracy of plane : 78 %\n",
      "Net Network: Accuracy of   car : 92 %\n",
      "Net Network: Accuracy of  bird : 72 %\n",
      "Net Network: Accuracy of   cat : 55 %\n",
      "Net Network: Accuracy of  deer : 73 %\n",
      "Net Network: Accuracy of   dog : 59 %\n",
      "Net Network: Accuracy of  frog : 83 %\n",
      "Net Network: Accuracy of horse : 81 %\n",
      "Net Network: Accuracy of  ship : 89 %\n",
      "Net Network: Accuracy of truck : 86 %\n"
     ]
    }
   ],
   "source": [
    "correct = 0\n",
    "total = 0\n",
    "with torch.no_grad():\n",
    "    for data in testloader:\n",
    "        images, labels = data\n",
    "        images, labels = images.to(device), labels.to(device)\n",
    "        outputs = net(images)\n",
    "        _, predicted = torch.max(outputs.data, 1)\n",
    "        total += labels.size(0)\n",
    "        correct += (predicted == labels).sum().item()\n",
    " \n",
    "print('Accuracy of the Net network on the 10000 test images: %d %%' % (\n",
    "    100 * correct / total))\n",
    " \n",
    "class_correct = list(0. for i in range(10))\n",
    "class_total = list(0. for i in range(10))\n",
    "with torch.no_grad():\n",
    "    for data in testloader:\n",
    "        images, labels = data\n",
    "        images, labels = images.to(device), labels.to(device)\n",
    "        outputs = net(images)\n",
    "        _, predicted = torch.max(outputs, 1)\n",
    "        c = (predicted == labels).squeeze()\n",
    "        for i in range(test_batch_size):\n",
    "            label = labels[i]\n",
    "#           class_correct[label] += c[i].item()\n",
    "            class_correct[label] += c.item()\n",
    "            class_total[label] += 1\n",
    " \n",
    " \n",
    "for i in range(10):\n",
    "    print('Net Network: Accuracy of %5s : %2d %%' % (\n",
    "        classes[i], 100 * class_correct[i] / class_total[i]))"
   ]
  },
  {
   "cell_type": "markdown",
   "metadata": {
    "colab_type": "text",
    "id": "H6-DoCK9egJW"
   },
   "source": [
    "### Accuracy of the LeNet-5 model "
   ]
  },
  {
   "cell_type": "code",
   "execution_count": 0,
   "metadata": {
    "colab": {
     "base_uri": "https://localhost:8080/",
     "height": 208
    },
    "colab_type": "code",
    "id": "RwwDrDocf_PZ",
    "outputId": "7ea072d5-c552-49f3-fdc5-d72618039230"
   },
   "outputs": [
    {
     "name": "stdout",
     "output_type": "stream",
     "text": [
      "Accuracy of the LeNet network on the 10000 test images: 61 %\n",
      "LeNet Network: Accuracy of plane : 70 %\n",
      "LeNet Network: Accuracy of   car : 72 %\n",
      "LeNet Network: Accuracy of  bird : 52 %\n",
      "LeNet Network: Accuracy of   cat : 26 %\n",
      "LeNet Network: Accuracy of  deer : 49 %\n",
      "LeNet Network: Accuracy of   dog : 59 %\n",
      "LeNet Network: Accuracy of  frog : 72 %\n",
      "LeNet Network: Accuracy of horse : 67 %\n",
      "LeNet Network: Accuracy of  ship : 71 %\n",
      "LeNet Network: Accuracy of truck : 72 %\n"
     ]
    }
   ],
   "source": [
    "correct = 0\n",
    "total = 0\n",
    "with torch.no_grad():\n",
    "    for data in testloader:\n",
    "        images, labels = data\n",
    "        images, labels = images.to(device), labels.to(device)\n",
    "        outputs = lenet(images)\n",
    "        _, predicted = torch.max(outputs.data, 1)\n",
    "        total += labels.size(0)\n",
    "        correct += (predicted == labels).sum().item()\n",
    " \n",
    "print('Accuracy of the LeNet network on the 10000 test images: %d %%' % (\n",
    "    100 * correct / total))\n",
    " \n",
    "class_correct = list(0. for i in range(10))\n",
    "class_total = list(0. for i in range(10))\n",
    "with torch.no_grad():\n",
    "    for data in testloader:\n",
    "        images, labels = data\n",
    "        images, labels = images.to(device), labels.to(device)\n",
    "        outputs = lenet(images)\n",
    "        _, predicted = torch.max(outputs, 1)\n",
    "        c = (predicted == labels).squeeze()\n",
    "        for i in range(test_batch_size):\n",
    "            label = labels[i]\n",
    "#           class_correct[label] += c[i].item()\n",
    "            class_correct[label] += c.item()\n",
    "            class_total[label] += 1\n",
    " \n",
    " \n",
    "for i in range(10):\n",
    "    print('LeNet Network: Accuracy of %5s : %2d %%' % (\n",
    "        classes[i], 100 * class_correct[i] / class_total[i]))"
   ]
  },
  {
   "cell_type": "markdown",
   "metadata": {
    "colab_type": "text",
    "id": "OTah70K7ekoo"
   },
   "source": [
    "### Accuracy of the ResNet model "
   ]
  },
  {
   "cell_type": "code",
   "execution_count": 0,
   "metadata": {
    "colab": {
     "base_uri": "https://localhost:8080/",
     "height": 208
    },
    "colab_type": "code",
    "id": "rghet3eVf--h",
    "outputId": "330182e9-516c-499f-852a-e75a1be34cd3"
   },
   "outputs": [
    {
     "name": "stdout",
     "output_type": "stream",
     "text": [
      "Accuracy of the ResNet network on the 10000 test images: 83 %\n",
      "ResNet Network: Accuracy of plane : 86 %\n",
      "ResNet Network: Accuracy of   car : 91 %\n",
      "ResNet Network: Accuracy of  bird : 78 %\n",
      "ResNet Network: Accuracy of   cat : 74 %\n",
      "ResNet Network: Accuracy of  deer : 78 %\n",
      "ResNet Network: Accuracy of   dog : 71 %\n",
      "ResNet Network: Accuracy of  frog : 82 %\n",
      "ResNet Network: Accuracy of horse : 87 %\n",
      "ResNet Network: Accuracy of  ship : 89 %\n",
      "ResNet Network: Accuracy of truck : 93 %\n"
     ]
    }
   ],
   "source": [
    "correct = 0\n",
    "total = 0\n",
    "with torch.no_grad():\n",
    "    for data in testloader:\n",
    "        images, labels = data\n",
    "        images, labels = images.to(device), labels.to(device)\n",
    "        outputs = resnet(images)\n",
    "        _, predicted = torch.max(outputs.data, 1)\n",
    "        total += labels.size(0)\n",
    "        correct += (predicted == labels).sum().item()\n",
    " \n",
    "print('Accuracy of the ResNet network on the 10000 test images: %d %%' % (\n",
    "    100 * correct / total))\n",
    " \n",
    "class_correct = list(0. for i in range(10))\n",
    "class_total = list(0. for i in range(10))\n",
    "with torch.no_grad():\n",
    "    for data in testloader:\n",
    "        images, labels = data\n",
    "        images, labels = images.to(device), labels.to(device)\n",
    "        outputs = resnet(images)\n",
    "        _, predicted = torch.max(outputs, 1)\n",
    "        c = (predicted == labels).squeeze()\n",
    "        for i in range(test_batch_size):\n",
    "            label = labels[i]\n",
    "#           class_correct[label] += c[i].item()\n",
    "            class_correct[label] += c.item()\n",
    "            class_total[label] += 1\n",
    " \n",
    " \n",
    "for i in range(10):\n",
    "    print('ResNet Network: Accuracy of %5s : %2d %%' % (\n",
    "        classes[i], 100 * class_correct[i] / class_total[i]))"
   ]
  },
  {
   "cell_type": "markdown",
   "metadata": {
    "colab_type": "text",
    "id": "Cj7m2maSVYRn"
   },
   "source": [
    "Interestingly all three networks they had simarlaly poor performance on the bird,cat,deer and dog classes. It is only possible to speculate why this may be as with only this information it cannot be known for certain ,as it appears in all three there it is likely some underlying cause is responsible. A possible approach would be to check the correlation between these classes. "
   ]
  },
  {
   "cell_type": "markdown",
   "metadata": {
    "colab_type": "text",
    "id": "BBEgtoCGTBd9"
   },
   "source": [
    "### Adversarial Attack using FGSM"
   ]
  },
  {
   "cell_type": "code",
   "execution_count": 0,
   "metadata": {
    "colab": {},
    "colab_type": "code",
    "id": "W5RCESxBTBd9"
   },
   "outputs": [],
   "source": [
    "# Here we define the function that tests our model\n",
    "def test( model, device, test_loader, epsilon ):\n",
    "\n",
    "    # Accuracy counter\n",
    "    correct = 0\n",
    "    adv_examples = []\n",
    "\n",
    "    # Loop over all examples in test set\n",
    "    for data, target in test_loader:\n",
    "\n",
    "        # Send the data and label to the device\n",
    "        data, target = data.to(device), target.to(device)\n",
    "\n",
    "        # Set requires_grad attribute of tensor. Important for Attack\n",
    "        data.requires_grad = True\n",
    "\n",
    "        # Forward pass the data through the model\n",
    "        output = model(data)\n",
    "        init_pred = output.max(1, keepdim=True)[1] # get the index of the max log-probability\n",
    "\n",
    "        # If the initial prediction is wrong, dont bother attacking, just move on\n",
    "        if init_pred.item() != target.item():\n",
    "            continue\n",
    "\n",
    "        # Calculate the loss\n",
    "        loss = F.nll_loss(output, target)\n",
    "\n",
    "        # Zero all existing gradients\n",
    "        model.zero_grad()\n",
    "\n",
    "        # Calculate gradients of model in backward pass\n",
    "        loss.backward()\n",
    "\n",
    "        # Collect datagrad\n",
    "        data_grad = data.grad.data\n",
    "\n",
    "        # Call FGSM Attack\n",
    "        perturbed_data = fgsm_attack(data, epsilon, data_grad)\n",
    "\n",
    "        # Re-classify the perturbed image\n",
    "        output = model(perturbed_data)\n",
    "\n",
    "        # Check for success\n",
    "        final_pred = output.max(1, keepdim=True)[1] # get the index of the max log-probability\n",
    "        if final_pred.item() == target.item():\n",
    "            correct += 1\n",
    "            # Special case for saving 0 epsilon examples\n",
    "            if (epsilon == 0) and (len(adv_examples) < 5):\n",
    "                adv_ex = perturbed_data.squeeze().detach().cpu().numpy()\n",
    "                adv_examples.append( (init_pred.item(), final_pred.item(), adv_ex) )\n",
    "        else:\n",
    "            # Save some adv examples for visualization later\n",
    "            if len(adv_examples) < 5:\n",
    "                adv_ex = perturbed_data.squeeze().detach().cpu().numpy()\n",
    "                adv_examples.append( (init_pred.item(), final_pred.item(), adv_ex) )\n",
    "\n",
    "    # Calculate final accuracy for this epsilon\n",
    "    final_acc = correct/float(len(test_loader))\n",
    "    print(\"Epsilon: {}\\tTest Accuracy = {} / {} = {}\".format(epsilon, correct, len(test_loader), final_acc))\n",
    "\n",
    "    # Return the accuracy and an adversarial example\n",
    "    return final_acc, adv_examples"
   ]
  },
  {
   "cell_type": "markdown",
   "metadata": {
    "colab_type": "text",
    "id": "jbtCXyKfgRC5"
   },
   "source": [
    "### Here we run the attacks and evaluate the accuracy for different values of epsilon"
   ]
  },
  {
   "cell_type": "code",
   "execution_count": 0,
   "metadata": {
    "colab": {
     "base_uri": "https://localhost:8080/",
     "height": 243
    },
    "colab_type": "code",
    "id": "LSRDapUsTBeB",
    "outputId": "75eca716-ee35-4c90-97f7-e5713a9db662"
   },
   "outputs": [
    {
     "name": "stdout",
     "output_type": "stream",
     "text": [
      "Epsilon: 0\tTest Accuracy = 8264 / 10000 = 0.8264\n",
      "Epsilon: 0.01\tTest Accuracy = 3861 / 10000 = 0.3861\n",
      "Epsilon: 0.02\tTest Accuracy = 1898 / 10000 = 0.1898\n",
      "Epsilon: 0.03\tTest Accuracy = 1169 / 10000 = 0.1169\n",
      "Epsilon: 0.04\tTest Accuracy = 898 / 10000 = 0.0898\n",
      "Epsilon: 0.05\tTest Accuracy = 782 / 10000 = 0.0782\n",
      "Epsilon: 0.06\tTest Accuracy = 738 / 10000 = 0.0738\n",
      "Epsilon: 0.07\tTest Accuracy = 710 / 10000 = 0.071\n",
      "Epsilon: 0.08\tTest Accuracy = 682 / 10000 = 0.0682\n",
      "Epsilon: 0.09\tTest Accuracy = 681 / 10000 = 0.0681\n",
      "Epsilon: 0.1\tTest Accuracy = 697 / 10000 = 0.0697\n",
      "CPU times: user 6min 3s, sys: 30 s, total: 6min 33s\n",
      "Wall time: 7min 18s\n"
     ]
    }
   ],
   "source": [
    "%%time\n",
    "accuracies_net = []\n",
    "examples_net = []\n",
    "epsilons_net = [0, .01, .02, .03, .04, .05, .06,.07,.08,.09,.1]\n",
    "# Run test for each epsilon\n",
    "# testloader batchsize should be 1\n",
    "for eps in epsilons_net:\n",
    "    acc, ex = test(net, device, testloader, eps)\n",
    "    accuracies_net.append(acc)\n",
    "    examples_net.append(ex)"
   ]
  },
  {
   "cell_type": "code",
   "execution_count": 0,
   "metadata": {
    "colab": {
     "base_uri": "https://localhost:8080/",
     "height": 243
    },
    "colab_type": "code",
    "id": "TvFSugaJi5IY",
    "outputId": "b73e838d-7f9c-46c2-9e6c-984d6689970a"
   },
   "outputs": [
    {
     "name": "stdout",
     "output_type": "stream",
     "text": [
      "Epsilon: 0\tTest Accuracy = 8264 / 10000 = 0.8264\n",
      "Epsilon: 0.02\tTest Accuracy = 1898 / 10000 = 0.1898\n",
      "Epsilon: 0.04\tTest Accuracy = 898 / 10000 = 0.0898\n",
      "Epsilon: 0.06\tTest Accuracy = 738 / 10000 = 0.0738\n",
      "Epsilon: 0.08\tTest Accuracy = 682 / 10000 = 0.0682\n",
      "Epsilon: 0.1\tTest Accuracy = 697 / 10000 = 0.0697\n",
      "Epsilon: 0.12\tTest Accuracy = 712 / 10000 = 0.0712\n",
      "Epsilon: 0.14\tTest Accuracy = 722 / 10000 = 0.0722\n",
      "Epsilon: 0.16\tTest Accuracy = 738 / 10000 = 0.0738\n",
      "Epsilon: 0.18\tTest Accuracy = 755 / 10000 = 0.0755\n",
      "Epsilon: 0.2\tTest Accuracy = 752 / 10000 = 0.0752\n",
      "CPU times: user 6min 6s, sys: 29.9 s, total: 6min 36s\n",
      "Wall time: 7min 21s\n"
     ]
    }
   ],
   "source": [
    "%%time\n",
    "accuracies_net2 = []\n",
    "examples_net2 = []\n",
    "epsilons_net2 = [0, .02, .04, .06, .08, .1, .12,.14,.16,.18,.2]\n",
    "\n",
    "# Run test for each epsilon\n",
    "# testloader batchsize should be 1\n",
    "for eps in epsilons_net2:\n",
    "    acc, ex = test(net, device, testloader, eps)\n",
    "    accuracies_net2.append(acc)\n",
    "    examples_net2.append(ex)"
   ]
  },
  {
   "cell_type": "code",
   "execution_count": 0,
   "metadata": {
    "colab": {
     "base_uri": "https://localhost:8080/",
     "height": 243
    },
    "colab_type": "code",
    "id": "roIpHiVHkjt2",
    "outputId": "d1e266bd-adc2-41f1-fd4e-f2e1ad882247"
   },
   "outputs": [
    {
     "name": "stdout",
     "output_type": "stream",
     "text": [
      "Epsilon: 0\tTest Accuracy = 8264 / 10000 = 0.8264\n",
      "Epsilon: 0.05\tTest Accuracy = 782 / 10000 = 0.0782\n",
      "Epsilon: 0.1\tTest Accuracy = 697 / 10000 = 0.0697\n",
      "Epsilon: 0.15\tTest Accuracy = 714 / 10000 = 0.0714\n",
      "Epsilon: 0.2\tTest Accuracy = 752 / 10000 = 0.0752\n",
      "Epsilon: 0.25\tTest Accuracy = 758 / 10000 = 0.0758\n",
      "Epsilon: 0.3\tTest Accuracy = 801 / 10000 = 0.0801\n",
      "Epsilon: 0.35\tTest Accuracy = 818 / 10000 = 0.0818\n",
      "Epsilon: 0.4\tTest Accuracy = 871 / 10000 = 0.0871\n",
      "Epsilon: 0.45\tTest Accuracy = 900 / 10000 = 0.09\n",
      "Epsilon: 0.5\tTest Accuracy = 926 / 10000 = 0.0926\n",
      "CPU times: user 6min 8s, sys: 29.4 s, total: 6min 37s\n",
      "Wall time: 7min 23s\n"
     ]
    }
   ],
   "source": [
    "%%time\n",
    "accuracies_net3 = []\n",
    "examples_net3 = []\n",
    "epsilons_net3 = [0, .05, .1, .15, .2, .25, .3,.35,.4,.45,.5]\n",
    "\n",
    "# Run test for each epsilon\n",
    "# testloader batchsize should be 1\n",
    "for eps in epsilons_net3:\n",
    "    acc, ex = test(net, device, testloader, eps)\n",
    "    accuracies_net3.append(acc)\n",
    "    examples_net3.append(ex)"
   ]
  },
  {
   "cell_type": "code",
   "execution_count": 0,
   "metadata": {
    "colab": {
     "base_uri": "https://localhost:8080/",
     "height": 208
    },
    "colab_type": "code",
    "id": "GFh6g91Wh-IB",
    "outputId": "805ce372-79de-4d42-c8a3-481e5449aca5"
   },
   "outputs": [
    {
     "name": "stdout",
     "output_type": "stream",
     "text": [
      "Epsilon: 0\tTest Accuracy = 6161 / 10000 = 0.6161\n",
      "Epsilon: 0.01\tTest Accuracy = 2570 / 10000 = 0.257\n",
      "Epsilon: 0.02\tTest Accuracy = 1049 / 10000 = 0.1049\n",
      "Epsilon: 0.03\tTest Accuracy = 444 / 10000 = 0.0444\n",
      "Epsilon: 0.04\tTest Accuracy = 211 / 10000 = 0.0211\n",
      "Epsilon: 0.05\tTest Accuracy = 110 / 10000 = 0.011\n",
      "Epsilon: 0.06\tTest Accuracy = 82 / 10000 = 0.0082\n",
      "Epsilon: 0.07\tTest Accuracy = 69 / 10000 = 0.0069\n",
      "Epsilon: 0.08\tTest Accuracy = 60 / 10000 = 0.006\n",
      "Epsilon: 0.09\tTest Accuracy = 57 / 10000 = 0.0057\n",
      "Epsilon: 0.1\tTest Accuracy = 50 / 10000 = 0.005\n"
     ]
    }
   ],
   "source": [
    "accuracies_lenet = []\n",
    "examples_lenet = []\n",
    "epsilons_lenet = [0, .01, .02, .03, .04, .05, .06,.07,.08,.09,.1]\n",
    "\n",
    "# Run test for each epsilon\n",
    "# testloader batchsize should be 1\n",
    "for eps in epsilons_lenet:\n",
    "    acc, ex = test(lenet, device, testloader, eps)\n",
    "    accuracies_lenet.append(acc)\n",
    "    examples_lenet.append(ex)"
   ]
  },
  {
   "cell_type": "code",
   "execution_count": 0,
   "metadata": {
    "colab": {
     "base_uri": "https://localhost:8080/",
     "height": 208
    },
    "colab_type": "code",
    "id": "fvOXzSQuh95_",
    "outputId": "b03be557-715f-499f-8aec-9e1bf372b62a"
   },
   "outputs": [
    {
     "name": "stdout",
     "output_type": "stream",
     "text": [
      "Epsilon: 0\tTest Accuracy = 8320 / 10000 = 0.832\n",
      "Epsilon: 0.01\tTest Accuracy = 1449 / 10000 = 0.1449\n",
      "Epsilon: 0.02\tTest Accuracy = 433 / 10000 = 0.0433\n",
      "Epsilon: 0.03\tTest Accuracy = 235 / 10000 = 0.0235\n",
      "Epsilon: 0.04\tTest Accuracy = 176 / 10000 = 0.0176\n",
      "Epsilon: 0.05\tTest Accuracy = 155 / 10000 = 0.0155\n",
      "Epsilon: 0.06\tTest Accuracy = 132 / 10000 = 0.0132\n",
      "Epsilon: 0.07\tTest Accuracy = 132 / 10000 = 0.0132\n",
      "Epsilon: 0.08\tTest Accuracy = 131 / 10000 = 0.0131\n",
      "Epsilon: 0.09\tTest Accuracy = 141 / 10000 = 0.0141\n",
      "Epsilon: 0.1\tTest Accuracy = 144 / 10000 = 0.0144\n"
     ]
    }
   ],
   "source": [
    "accuracies_resnet = []\n",
    "examples_resnet = []\n",
    "epsilons_resnet = [0, .01, .02, .03, .04, .05, .06,.07,.08,.09,.1]\n",
    "\n",
    "# Run test for each epsilon\n",
    "# testloader batchsize should be 1\n",
    "for eps in epsilons_resnet:\n",
    "    acc, ex = test(resnet, device, testloader, eps)\n",
    "    accuracies_resnet.append(acc)\n",
    "    examples_resnet.append(ex)"
   ]
  },
  {
   "cell_type": "markdown",
   "metadata": {
    "colab_type": "text",
    "id": "bati9vmognj5"
   },
   "source": [
    "### Plots showing the Accuracy vs Epsilon Plots "
   ]
  },
  {
   "cell_type": "code",
   "execution_count": 0,
   "metadata": {
    "colab": {
     "base_uri": "https://localhost:8080/",
     "height": 1000
    },
    "colab_type": "code",
    "id": "_SqPHEFE6USM",
    "outputId": "684fcb39-839a-4233-e78b-1a948c1c5f6b"
   },
   "outputs": [
    {
     "data": {
      "image/png": "[encoded data removed]",
      "text/plain": [
       "<Figure size 360x360 with 1 Axes>"
      ]
     },
     "metadata": {
      "tags": []
     },
     "output_type": "display_data"
    },
    {
     "data": {
      "image/png": "[encoded data removed]",
      "text/plain": [
       "<Figure size 360x360 with 1 Axes>"
      ]
     },
     "metadata": {
      "tags": []
     },
     "output_type": "display_data"
    },
    {
     "data": {
      "image/png": "[encoded data removed]",
      "text/plain": [
       "<Figure size 360x360 with 1 Axes>"
      ]
     },
     "metadata": {
      "tags": []
     },
     "output_type": "display_data"
    }
   ],
   "source": [
    "# Plot of Accuracy vs Epsilon with 0.01 step size \n",
    "plt.figure(figsize=(5,5))\n",
    "plt.plot(epsilons_net, accuracies_net, \"*-\")\n",
    "plt.yticks(np.arange(0, 1.1, step=0.1))\n",
    "plt.xticks(np.arange(0, .1, step=0.01))\n",
    "plt.title(\"0.01 step\")\n",
    "plt.xlabel(\"Epsilon\")\n",
    "plt.ylabel(\"Accuracy\")\n",
    "plt.show()\n",
    "\n",
    "# Plot of Accuracy vs Epsilon with 0.02 step size \n",
    "plt.figure(figsize=(5,5))\n",
    "plt.plot(epsilons_net2, accuracies_net2, \"*-\")\n",
    "plt.yticks(np.arange(0, 1.1, step=0.1))\n",
    "plt.xticks(np.arange(0, .2, step=0.02))\n",
    "plt.title(\"0.02 step\")\n",
    "plt.xlabel(\"Epsilon\")\n",
    "plt.ylabel(\"Accuracy\")\n",
    "plt.show()\n",
    "\n",
    "# Plot of Accuracy vs Epsilon with 0.05 step size \n",
    "plt.figure(figsize=(5,5))\n",
    "plt.plot(epsilons_net3, accuracies_net3, \"*-\")\n",
    "plt.yticks(np.arange(0, 1.1, step=0.1))\n",
    "plt.xticks(np.arange(0, .5, step=0.05))\n",
    "plt.title(\"0.05 step\")\n",
    "plt.xlabel(\"Epsilon\")\n",
    "plt.ylabel(\"Accuracy\")\n",
    "plt.show()"
   ]
  },
  {
   "cell_type": "markdown",
   "metadata": {
    "colab_type": "text",
    "id": "E7mKvE83NbZC"
   },
   "source": [
    "Changing the epsilon value beyond a certain point does not seem to further deteriorate the rate of misclassification in this case around 0.05. This pertubation is small especially compared with the epsillon required in a single channel greyscale image like FashionMNIST. Models that classify three channel images are less robust to adversarial attacks it seems. "
   ]
  },
  {
   "cell_type": "code",
   "execution_count": 0,
   "metadata": {
    "colab": {
     "base_uri": "https://localhost:8080/",
     "height": 283
    },
    "colab_type": "code",
    "id": "wY0kMDLduWU_",
    "outputId": "25c58582-cc42-4374-aee2-de4fa44fa7ee"
   },
   "outputs": [
    {
     "data": {
      "text/plain": [
       "<matplotlib.legend.Legend at 0x7f47b62b40f0>"
      ]
     },
     "execution_count": 39,
     "metadata": {
      "tags": []
     },
     "output_type": "execute_result"
    },
    {
     "data": {
      "image/png": "[encoded data removed]",
      "text/plain": [
       "<Figure size 432x288 with 1 Axes>"
      ]
     },
     "metadata": {
      "tags": []
     },
     "output_type": "display_data"
    }
   ],
   "source": [
    "# Using matplotlib to plot the degradation in accuracy for three different architectures \n",
    "plt.plot( epsilons_net, accuracies_net, color='skyblue', linewidth=2, label=\"Net Architecture\")\n",
    "plt.plot( epsilons_lenet, accuracies_lenet, color='olive', linewidth=2, label=\"LeNet Architecture\")\n",
    "plt.plot( epsilons_resnet, accuracies_resnet, color='red',linewidth=2, label=\"ResNet Architecture\")\n",
    "plt.legend()"
   ]
  },
  {
   "cell_type": "markdown",
   "metadata": {
    "colab_type": "text",
    "id": "XhWZy3NVN5oP"
   },
   "source": [
    "The three architectures and there response to adversarial attacks. \n",
    "\n",
    "The best performing architecture seems to be the least robust. Why this could be? It could be overfitting. \n",
    "\n",
    "LeNet performed poorly on the training set it is not surprising that a larger pertubation is required to fool this model. "
   ]
  },
  {
   "cell_type": "markdown",
   "metadata": {
    "colab_type": "text",
    "id": "zq7-RobVQEm6"
   },
   "source": [
    "Conclusion and summary \n",
    "\n",
    "Three Neural Networks were trained then attacked using the fast gradient sign method their robustness varied.\n",
    "\n",
    "To protect our model we could train it using some adversarial examples, this however would reduce the accuracy of our training data i.e it would be a worse classifier and for that reason it would be harder to attack.  There are other techniques that could be used however there is no simple way to combat adversarial examples what is required is an adaptive method which does not exist.\n",
    "\n",
    "Further Reading \n",
    "\n",
    "- Adversarial training can result in regularization even further regularization than dropout. \n",
    "\n",
    "- Models that are easy to optimize are easy to perturb.\n",
    "\n",
    "- Ensembles are not resistant to adversarial examples.\n",
    "\n",
    "\n"
   ]
  }
 ],
 "metadata": {
  "accelerator": "GPU",
  "colab": {
   "collapsed_sections": [],
   "name": "Copy of Copy of Copy of Copy of cifar10_2.ipynb",
   "provenance": []
  },
  "kernelspec": {
   "display_name": "Python 3",
   "language": "python",
   "name": "python3"
  },
  "language_info": {
   "codemirror_mode": {
    "name": "ipython",
    "version": 3
   },
   "file_extension": ".py",
   "mimetype": "text/x-python",
   "name": "python",
   "nbconvert_exporter": "python",
   "pygments_lexer": "ipython3",
   "version": "3.7.1"
  }
 },
 "nbformat": 4,
 "nbformat_minor": 1
}
