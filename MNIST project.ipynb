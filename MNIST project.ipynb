{
 "cells": [
  {
   "cell_type": "code",
   "execution_count": 1,
   "metadata": {},
   "outputs": [],
   "source": [
    "#Import dependencies\n",
    "from load_mnist import *\n",
    "import numpy as np\n",
    "import pandas as pd\n",
    "from matplotlib import pyplot as plt\n",
    "%load_ext autoreload\n",
    "%autoreload 2"
   ]
  },
  {
   "cell_type": "markdown",
   "metadata": {},
   "source": [
    "# Introduction"
   ]
  },
  {
   "cell_type": "markdown",
   "metadata": {},
   "source": [
    "MNIST(Modified National Institute of Standards and Technology) is the classic dataset used for benchmarking classification algorithms. It is a large database of handwritten digits that is commonly used for training various image processing systems. The MNIST database contains 60000x784 training set images, 60000x1 training set labels, 10000x784 testing set images and 10000x1 testing labels. The MNIST dataset can be accessed online from the website: http://yann.lecun.com/exdb/mnist/.\n",
    "\n",
    "In this project, we will train the handwritten digits (0-9) classifier through Binary and Multi-class classification, followed by comparative analysis of the outcome of both the classifications."
   ]
  },
  {
   "cell_type": "markdown",
   "metadata": {},
   "source": [
    "### Load MNIST data"
   ]
  },
  {
   "cell_type": "code",
   "execution_count": 2,
   "metadata": {},
   "outputs": [],
   "source": [
    "images_tr, labels_tr = load_mnist('MNIST/')\n",
    "images_tst, labels_tst = load_mnist('MNIST/', 't10k')"
   ]
  },
  {
   "cell_type": "code",
   "execution_count": 3,
   "metadata": {},
   "outputs": [
    {
     "name": "stdout",
     "output_type": "stream",
     "text": [
      "5\n"
     ]
    },
    {
     "data": {
      "image/png": "[encoded data removed]",
      "text/plain": [
       "<Figure size 432x288 with 1 Axes>"
      ]
     },
     "metadata": {
      "needs_background": "light"
     },
     "output_type": "display_data"
    }
   ],
   "source": [
    "plt.imshow(np.reshape(images_tr[9783, :], (28, 28)))    # showing the image of the 9783 number\n",
    "print(labels_tr[9783])                                  # printing the label of that image"
   ]
  },
  {
   "cell_type": "code",
   "execution_count": 4,
   "metadata": {},
   "outputs": [
    {
     "name": "stdout",
     "output_type": "stream",
     "text": [
      "(60000, 784) (60000,)\n",
      "(10000, 784) (10000,)\n"
     ]
    }
   ],
   "source": [
    "print(images_tr.shape, labels_tr.shape)\n",
    "print(images_tst.shape, labels_tst.shape)            # shape of matrix for images and labels"
   ]
  },
  {
   "cell_type": "markdown",
   "metadata": {},
   "source": [
    "Each row contains 784 values (28x28 pixels image), which are the pixel values (a number from 0 to 255).\n",
    "Because of this characteristic, the softmax function might overflow, we project [0, 255] to [0, 1] by dividing the dataset by 255."
   ]
  },
  {
   "cell_type": "code",
   "execution_count": 5,
   "metadata": {},
   "outputs": [],
   "source": [
    "X_train = images_tr/255                               #standardising data\n",
    "X_test=images_tst/255\n",
    "Y_train = labels_tr\n",
    "Y_test = labels_tst"
   ]
  },
  {
   "cell_type": "markdown",
   "metadata": {},
   "source": [
    " "
   ]
  },
  {
   "cell_type": "markdown",
   "metadata": {},
   "source": [
    "# One vs. Rest"
   ]
  },
  {
   "cell_type": "markdown",
   "metadata": {},
   "source": [
    "We, firstly, used binary logistic regression to predict whether a label is 'n' or 'not n', where n = 0,1,...,9.\n",
    "We have shown the example for n = 2."
   ]
  },
  {
   "cell_type": "code",
   "execution_count": 6,
   "metadata": {},
   "outputs": [],
   "source": [
    "Y_train_2 = (Y_train==2)  # 'True' when image or label is 2, otherwise 'False' (For training dataset)\n",
    "Y_test_2 = (Y_test==2)    # 'True' when image or label is 2, otherwise 'False' (For testing dataset)"
   ]
  },
  {
   "cell_type": "code",
   "execution_count": 7,
   "metadata": {},
   "outputs": [],
   "source": [
    "Y_train_2 = 1*Y_train_2   # converts True or False into 1 or 0\n",
    "Y_test_2 = 1*Y_test_2"
   ]
  },
  {
   "cell_type": "markdown",
   "metadata": {},
   "source": [
    "### Sigmoid function\n",
    "We use sigmoid function to map predicted values to probabilities. This function maps any real value into another value between 0 and 1.\n",
    "$$\\sigma(z)=\\frac{1}{1 + e^{-z}}$$"
   ]
  },
  {
   "cell_type": "code",
   "execution_count": 8,
   "metadata": {},
   "outputs": [],
   "source": [
    "#Sigmoid function for binary logistic regression\n",
    "def sigmoid(t):\n",
    "    return 1/(1+np.exp(-t))\n",
    "    raise NotImplementedError"
   ]
  },
  {
   "cell_type": "markdown",
   "metadata": {},
   "source": [
    "### Negative log likelihood Loss function\n",
    "Since our prediction function is non-linear in nature, it gives rise to a non-convex function with many local minimums if we use the conventional Mean Squared Error cost function. Therefore, we used Negative log likelihood Loss function which can be divided into two cost functions: one for y = 1 and one for y = 0. The loss function used is given below: \n",
    "The loss function used is given below:\n",
    "\n",
    "\\begin{align}\n",
    " h &= \\sigma(tx\\cdot w)\\\\\n",
    "Cost(h,y)&=\\frac{1}{m}\\cdot[-y^{T}log(h-(1-y^{T})log(1-h)]\\\\\n",
    "Cost(\\sigma(tx\\cdot w),y)&=\\frac{1}{m}\\cdot[-y^{T}log(\\sigma(tx\\cdot w))-(1-y^{T})log(1-\\sigma(tx\\cdot w))] \\\\\n",
    "\\end{align}"
   ]
  },
  {
   "cell_type": "code",
   "execution_count": 9,
   "metadata": {},
   "outputs": [],
   "source": [
    "#Loss for binary logistic regression\n",
    "def calculate_loss(y, tx, w):\n",
    "    \"\"\"\n",
    "    y is labels (num_examples x 1)\n",
    "    tx is the matrix of images with the first column vector of 1\n",
    "    w is weights\n",
    "    \"\"\"\n",
    "    # ***************************************************\n",
    "    cost = -y.reshape(-1,1)*np.log(sigmoid(tx.dot(w))) - (1-y.reshape(-1,1))*np.log(1-sigmoid(tx.dot(w)))\n",
    "    cost = cost.sum() / len(y)\n",
    "    return cost\n",
    "    # ***************************************************\n",
    "    raise NotImplementedError"
   ]
  },
  {
   "cell_type": "code",
   "execution_count": 10,
   "metadata": {},
   "outputs": [],
   "source": [
    "#Gradient for binary logistic regression\n",
    "def calculate_gradient(y, tx, w):\n",
    "    \"\"\"\n",
    "    y is labels (num_examples x 1)\n",
    "    tx is the matrix of images with the first column vector of 1\n",
    "    w is weights\n",
    "    \"\"\"\n",
    "    # ***************************************************\n",
    "    err = y.reshape(-1,1) - sigmoid(tx.dot(w))\n",
    "    grad = -tx.T.dot(err) / len(err)\n",
    "    return grad, err\n",
    "    # ***************************************************\n",
    "    raise NotImplementedError"
   ]
  },
  {
   "cell_type": "markdown",
   "metadata": {},
   "source": [
    "### Performing Gradient Descent"
   ]
  },
  {
   "cell_type": "markdown",
   "metadata": {},
   "source": [
    "We performed gradient descent to get weights."
   ]
  },
  {
   "cell_type": "code",
   "execution_count": 11,
   "metadata": {},
   "outputs": [],
   "source": [
    "def learning_by_gradient_descent(y, tx, w, tau):\n",
    "    \"\"\"\n",
    "    Perform one step of gradient descent for logistic \n",
    "    regression. Return the loss and the updated w.\n",
    "    \"\"\"\n",
    "    # ***************************************************\n",
    "    loss = calculate_loss(y, tx, w)\n",
    "    grad, err = calculate_gradient(y, tx, w)\n",
    "    w = w - grad*tau\n",
    "    # ***************************************************\n",
    "    #raise NotImplementedError\n",
    "    return loss, w"
   ]
  },
  {
   "cell_type": "code",
   "execution_count": 12,
   "metadata": {},
   "outputs": [
    {
     "data": {
      "application/vnd.jupyter.widget-view+json": {
       "model_id": "bdd4b982c6364b81878035de3b1ad86e",
       "version_major": 2,
       "version_minor": 0
      },
      "text/plain": [
       "HBox(children=(IntProgress(value=0, max=500), HTML(value='')))"
      ]
     },
     "metadata": {},
     "output_type": "display_data"
    },
    {
     "name": "stdout",
     "output_type": "stream",
     "text": [
      "Current iteration=0, loss=0.6931471805599453\n",
      "Current iteration=100, loss=0.10512816202766838\n",
      "loss=0.09525357838237987\n"
     ]
    }
   ],
   "source": [
    "#Putting it all together for the binary logistic regression\n",
    "from helpers import de_standardise\n",
    "from tqdm import tqdm_notebook\n",
    "\n",
    "def logistic_regression_gradient_descent_demo(y, x):\n",
    "    # init parameters\n",
    "    max_iter = 500\n",
    "    threshold = 1e-4\n",
    "    tau = 0.3\n",
    "    losses = []\n",
    "\n",
    "    # build tx\n",
    "    tx = np.c_[np.ones((y.shape[0], 1)), x]\n",
    "    w = np.zeros((tx.shape[1], 1))\n",
    "\n",
    "    # start the logistic regression\n",
    "    for iter in tqdm_notebook(range(max_iter)):\n",
    "        # get loss and update w.\n",
    "        loss, w = learning_by_gradient_descent(y, tx, w, tau)\n",
    "        # log info\n",
    "        if iter % 100 == 0:\n",
    "            print(\"Current iteration={i}, loss={l}\".format(i=iter, l=loss))\n",
    "        # converge criterion\n",
    "        losses.append(loss)\n",
    "        if len(losses) > 1 and np.abs(losses[-1] - losses[-2]) < threshold:\n",
    "            break\n",
    "    # visualisation\n",
    "    #visualisation(y, x, mean_x, std_x, w, \"classification_by_logistic_regression_gradient_descent\")\n",
    "    print(\"loss={l}\".format(l=calculate_loss(y, tx, w)))\n",
    "    return w\n",
    "\n",
    "w_2 = logistic_regression_gradient_descent_demo(Y_train_2, X_train)"
   ]
  },
  {
   "cell_type": "markdown",
   "metadata": {},
   "source": [
    "## Prediction "
   ]
  },
  {
   "cell_type": "markdown",
   "metadata": {},
   "source": [
    "After the gradient descent, we now have the weights (w). Therefore, we can find out the predicted y using the equation $\\mathbf{Y=X^{T} \\cdot  W}$."
   ]
  },
  {
   "cell_type": "code",
   "execution_count": 13,
   "metadata": {},
   "outputs": [],
   "source": [
    "tx_test_2 = np.c_[np.ones((Y_test_2.shape[0], 1)), X_test] # reshaping for matrix multiplication"
   ]
  },
  {
   "cell_type": "code",
   "execution_count": 14,
   "metadata": {},
   "outputs": [],
   "source": [
    "#to find the predicted value of y\n",
    "def predict(tx,w): \n",
    "    return tx.dot(w)"
   ]
  },
  {
   "cell_type": "code",
   "execution_count": 15,
   "metadata": {},
   "outputs": [],
   "source": [
    "#applying Sigmoid function to the predicted value to get a probability distribution\n",
    "Y_pred_2=sigmoid(predict(tx_test_2,w_2))"
   ]
  },
  {
   "cell_type": "code",
   "execution_count": 16,
   "metadata": {},
   "outputs": [],
   "source": [
    "# decision boundary\n",
    "Y_pred_2[Y_pred_2>0.5]=1\n",
    "Y_pred_2[Y_pred_2<=0.5]=0"
   ]
  },
  {
   "cell_type": "markdown",
   "metadata": {},
   "source": [
    "## Model Performance"
   ]
  },
  {
   "cell_type": "code",
   "execution_count": 17,
   "metadata": {},
   "outputs": [],
   "source": [
    "def performance(y_true, y_pred):\n",
    "    TP, FP, TN, FN = 0, 0, 0, 0                     # initialising\n",
    "\n",
    "    for i in range(len(y_true)):\n",
    "        if y_true[i] == 1 and y_pred[i] == 1:       # true positive\n",
    "           TP += 1\n",
    "        if y_true[i] == 0 and y_pred[i] == 1:       # false positive\n",
    "           FP += 1\n",
    "        if y_true[i] == 0 and y_pred[i] == 0:       # true negative\n",
    "           TN += 1\n",
    "        if y_true[i] == 1 and y_pred[i] == 0:       # false negative\n",
    "           FN += 1\n",
    "        \n",
    "        CF = np.arange(4).reshape(2,2)\n",
    "        CF[0][0] = TN\n",
    "        CF[0][1] = FP\n",
    "        CF[1][0] = FN\n",
    "        CF[1][1] = TP                               # confusion matrix\n",
    "        accuracy = (TP+TN) / (TP+FP+TN+FN)    \n",
    "    \n",
    "    return CF, accuracy "
   ]
  },
  {
   "cell_type": "code",
   "execution_count": 18,
   "metadata": {
    "scrolled": true
   },
   "outputs": [
    {
     "data": {
      "text/plain": [
       "(array([[8929,   39],\n",
       "        [ 219,  813]]), 0.9742)"
      ]
     },
     "execution_count": 18,
     "metadata": {},
     "output_type": "execute_result"
    }
   ],
   "source": [
    "performance(Y_test_2, Y_pred_2)"
   ]
  },
  {
   "cell_type": "markdown",
   "metadata": {},
   "source": [
    " "
   ]
  },
  {
   "cell_type": "markdown",
   "metadata": {},
   "source": [
    "# Multi-class classification"
   ]
  },
  {
   "cell_type": "markdown",
   "metadata": {},
   "source": [
    "### Softmax Activation"
   ]
  },
  {
   "cell_type": "markdown",
   "metadata": {},
   "source": [
    "For multi-class classification, we use the Softmax function to link the linear inputs to probability distribution. So that we get a probability distribution with K class.<br>\n",
    "In addition, to avoid overflowing and resulting in $nan$ we have chosen to subtract the maximum of x from x."
   ]
  },
  {
   "cell_type": "markdown",
   "metadata": {},
   "source": [
    "Softmax function: $$Softmax(z_{j})=\\frac{e^{z_{j}}}{\\sum_{k=1}^{n}e^{z_{k}}}$$"
   ]
  },
  {
   "cell_type": "code",
   "execution_count": 19,
   "metadata": {},
   "outputs": [],
   "source": [
    "def softmax(x):\n",
    "    x_shifted = x - x.max(axis=-1, keepdims=True)                  # subtrcating the maximum value to avoid overflow      \n",
    "    return np.exp(x_shifted) / np.exp(x_shifted).sum(axis=1).reshape(len(x),1)"
   ]
  },
  {
   "cell_type": "markdown",
   "metadata": {},
   "source": [
    "### Cross Entropy Loss"
   ]
  },
  {
   "cell_type": "markdown",
   "metadata": {},
   "source": [
    "Cross entropy evaluates how close the original distribution and the actual distribution are."
   ]
  },
  {
   "cell_type": "markdown",
   "metadata": {},
   "source": [
    "Cross Entropy Loss function: $$H(y,p) = -\\sum_{i}y_{i} log(p_{i})$$"
   ]
  },
  {
   "cell_type": "code",
   "execution_count": 20,
   "metadata": {},
   "outputs": [],
   "source": [
    "def calculate_loss(y, tx, w):   \n",
    "    \"\"\"\n",
    "    y is labels (num_examples x 1)\n",
    "    tx is the matrix of images with the first column vector of 1\n",
    "    w is weights\n",
    "    \"\"\"\n",
    "    length = y.shape[0]\n",
    "    soft_matrix = softmax(tx.dot(w))                          # softmax activation\n",
    "    log_likelihood = -np.log(soft_matrix[range(length),y])    # softmax probability of the correct label\n",
    "    loss = np.sum(log_likelihood) / length\n",
    "    return loss"
   ]
  },
  {
   "cell_type": "markdown",
   "metadata": {},
   "source": [
    "### Derivative of Softmax"
   ]
  },
  {
   "cell_type": "markdown",
   "metadata": {},
   "source": [
    "\\begin{align}\n",
    "p_{j} &= \\frac{e^{z_{j}}}{\\sum_{k=1}^{n}e^{z_{k}}}\\\\\n",
    "\\frac{\\partial p_{j}}{\\partial z} &= \\frac{\\partial \\frac{e^{z_{j}}}{\\sum_{k} e^z_{j}} }{\\partial z_{i}}\\\\\n",
    "&=\\frac{a \\frac{\\partial e^{z_{j}}}{\\partial e^{z_{i}}} \\cdot \\sum_{k} e^{z_{k}} - e^{z_{i}} \\cdot  e^{z_{j}}  }{ \\left (\\sum_{k} e^{z_{k}} \\right ) ^{2}  }\\\\\n",
    "&=\\frac{ (e^{z_{j}})' }{\\sum_{k} e^{z_{k}}  }- \\frac{ e^{z_{i}}  }{\\sum_{k} e^{z_{k}}} \\cdot  \\frac{e^{z_{j}} }{\\sum_{k} e^{z_{k}}}\n",
    "\\end{align}"
   ]
  },
  {
   "cell_type": "markdown",
   "metadata": {},
   "source": [
    "when i = j, $\\frac{\\partial e^{z_{j}}}{\\partial e^{z_{i}}} = e^{z_{i}}$,\n",
    "\\begin{align}\n",
    "\\therefore \\frac{\\partial p_{j}}{\\partial z_{i}} &= \\frac{e^{z_j}}{\\sum_{k} e^{z_{k}}} \\left (1- \\frac{e^{z_{j}}}{\\sum_{k} e^{z_{k}}} \\right )\\\\\n",
    "&=p_{j} \\left ( 1-p_{j} \\right )\n",
    "\\end{align}"
   ]
  },
  {
   "cell_type": "markdown",
   "metadata": {},
   "source": [
    "when i $\\neq$ j, $\\frac{\\partial e^{z_{j}}}{\\partial e^{z_{i}}} = 0$,\n",
    "\\begin{align}\n",
    "\\therefore \\frac{\\partial p_{j}}{\\partial z_{i}} &= \\frac{ 0\\cdot \\sum_{k} e^{z_{k}} -e^{z_{i}} \\cdot e^{z_{j}} }{ \\left ( \\sum_{k} e^{z_{k}} \\right )^{2}  }\\\\\n",
    "&= -\\frac{e^{z_{i}}}{ \\sum_{k} e^{z_{k}}} \\cdot  \\frac{e^{z_{j}}}{ \\sum_{k} e^{z_{k}}} \\\\\n",
    "&= -p_{i} p_{j}\n",
    "\\end{align}"
   ]
  },
  {
   "cell_type": "markdown",
   "metadata": {},
   "source": [
    " "
   ]
  },
  {
   "cell_type": "markdown",
   "metadata": {},
   "source": [
    "### Derivative of Cross Entropy Loss with Softmax"
   ]
  },
  {
   "cell_type": "markdown",
   "metadata": {},
   "source": [
    "\\begin{align}\n",
    "L &= -\\sum_{i}y_{i} \\cdot log(p_{i})\\\\\n",
    "\\frac{\\partial L}{\\partial z_{i}} &= - \\sum_{j} y_{j} \\cdot \\frac{\\partial logp_{j}}{\\partial z_{i}}\\\\\n",
    "&=- \\sum_{j} y_{j} \\cdot \\frac{1}{p_{j}} \\cdot \\frac{\\partial p_{j}}{\\partial z_{i}}\\\\\n",
    "&=-y_{i} \\cdot \\frac{1}{p_{i}} \\cdot p_{i} \\left ( 1-p_{i} \\right ) - \\sum_{j\\neq i} y_{j} \\cdot \\frac{1}{p_{j}} \\cdot  \\left ( -p_{j} p_{i} \\right )\\\\\n",
    "&= -y_{i} \\cdot \\left ( 1-p_{i} \\right ) +  \\sum_{j\\neq i} y_{j} \\cdot p_{i}\\\\\n",
    "&= -y_{i} +y_{i} \\cdot p_{i} +  \\sum_{j\\neq i} y_{j} \\cdot p_{i}\\\\\n",
    "&= p_{i} \\cdot \\sum_{j} y_{j} -y_{i}\n",
    "\\end{align}"
   ]
  },
  {
   "cell_type": "markdown",
   "metadata": {},
   "source": [
    "By doing classification, there will be only one $y_{i}$ equals to 1.<br>\n",
    "Therefore the above equation becomes:<br>\n",
    "$$\\frac{\\partial L}{\\partial z_{i}} = p_{i} - 1$$\n"
   ]
  },
  {
   "cell_type": "markdown",
   "metadata": {},
   "source": [
    "By chain rule, we have: $$\\frac{\\partial Loss}{\\partial w} = \\frac{\\partial Loss}{\\partial z} \\cdot  \\frac{\\partial z}{\\partial w}$$ <br>\n",
    "Since $$z=x \\cdot w \\Rightarrow \\frac{\\partial z}{\\partial w} = x$$ <br>\n",
    "We have $$\\frac{\\partial Loss}{\\partial w} = (p_{i} -1) \\cdot x$$"
   ]
  },
  {
   "cell_type": "code",
   "execution_count": 21,
   "metadata": {},
   "outputs": [],
   "source": [
    "def calculate_gradient(y, tx, w):\n",
    "    \"\"\"\n",
    "    y is labels (num_examples x 1)\n",
    "    tx is the matrix of images with the first column vector of 1\n",
    "    w is weights\n",
    "    \"\"\"\n",
    "    length = y.shape[0]\n",
    "    dz = softmax(tx.dot(w))\n",
    "    dz[range(length),y] -= 1             # calculating dLoss/dz\n",
    "    dz = dz/length\n",
    "    dw=np.dot(tx.T, dz)                  # calculating dLoss/dw\n",
    "    return dw"
   ]
  },
  {
   "cell_type": "markdown",
   "metadata": {},
   "source": [
    "### Performing Gradient Descent"
   ]
  },
  {
   "cell_type": "markdown",
   "metadata": {},
   "source": [
    "We performed gradient descent to get weights. Since the MNIST dataset is relatively large, we have added a progress bar."
   ]
  },
  {
   "cell_type": "code",
   "execution_count": 22,
   "metadata": {},
   "outputs": [],
   "source": [
    "def learning_by_gradient_descent(y, tx, w, tau):\n",
    "    \"\"\"\n",
    "    Perform one step of gradient descent for logistic \n",
    "    regression. Return the loss and the updated w.\n",
    "    \"\"\"\n",
    "    # ***************************************************\n",
    "    loss = calculate_loss(y, tx, w)\n",
    "    grad = calculate_gradient(y, tx, w)\n",
    "    w = w - grad*tau                          # updating weights\n",
    "    # ***************************************************\n",
    "    #raise NotImplementedError\n",
    "    return loss, w"
   ]
  },
  {
   "cell_type": "code",
   "execution_count": 23,
   "metadata": {},
   "outputs": [
    {
     "data": {
      "application/vnd.jupyter.widget-view+json": {
       "model_id": "fd89efa7bdd042f3be1c8aeb42ceccdc",
       "version_major": 2,
       "version_minor": 0
      },
      "text/plain": [
       "HBox(children=(IntProgress(value=0, max=500), HTML(value='')))"
      ]
     },
     "metadata": {},
     "output_type": "display_data"
    },
    {
     "name": "stdout",
     "output_type": "stream",
     "text": [
      "Current iteration=0, loss=2.3025850929940455\n",
      "Current iteration=100, loss=0.4397162761430162\n",
      "Current iteration=200, loss=0.3792051798114966\n",
      "Current iteration=300, loss=0.35293137155822624\n",
      "Current iteration=400, loss=0.3372601364875879\n",
      "loss=0.329178939049527\n"
     ]
    }
   ],
   "source": [
    "from helpers import de_standardise\n",
    "from tqdm import tqdm_notebook\n",
    "\n",
    "def logistic_regression_gradient_descent_demo(y, x):\n",
    "    # init parameters\n",
    "    max_iter = 500\n",
    "    threshold = 1e-4\n",
    "    tau = 0.3\n",
    "    losses = []\n",
    "\n",
    "    # build tx\n",
    "    tx = np.c_[np.ones((y.shape[0], 1)), x]\n",
    "    w = np.zeros((tx.shape[1], 10))\n",
    "\n",
    "    # start the logistic regression\n",
    "    for iter in tqdm_notebook(range(max_iter)):\n",
    "        # get loss and update w.\n",
    "        loss, w = learning_by_gradient_descent(y, tx, w, tau)\n",
    "        # log info\n",
    "        if iter % 100 == 0:\n",
    "            print(\"Current iteration={i}, loss={l}\".format(i=iter, l=loss))\n",
    "        # converge criterion\n",
    "        losses.append(loss)\n",
    "        if len(losses) > 1 and np.abs(losses[-1] - losses[-2]) < threshold:\n",
    "            break\n",
    "    # visualisation\n",
    "    #visualisation(y, x, mean_x, std_x, w, \"classification_by_logistic_regression_gradient_descent\")\n",
    "    print(\"loss={l}\".format(l=calculate_loss(y, tx, w)))\n",
    "    return w\n",
    "\n",
    "w_lo = logistic_regression_gradient_descent_demo(Y_train, X_train)"
   ]
  },
  {
   "cell_type": "markdown",
   "metadata": {},
   "source": [
    "## Prediction"
   ]
  },
  {
   "cell_type": "markdown",
   "metadata": {},
   "source": [
    "With the weights that we got from gradient descent and now with the equation $\\mathbf{Y=tX \\cdot  W}$, we can get a $m \\times 10$ matrix $\\mathbf{Y}$, where $m$ equals the number of rows in testing dataset and the index of each column means the probability that the predicted number is to be."
   ]
  },
  {
   "cell_type": "code",
   "execution_count": 24,
   "metadata": {},
   "outputs": [],
   "source": [
    "tx_test = np.c_[np.ones((labels_tst.shape[0], 1)), X_test]   # getting testing data\n",
    "soft_test=softmax(tx_test.dot(w_lo))                         # using softmax to get a probability distribution\n",
    "Y_pred = soft_test.argmax(axis=1)                            # locate the index with the maximum probability"
   ]
  },
  {
   "cell_type": "markdown",
   "metadata": {},
   "source": [
    "## Model Performance"
   ]
  },
  {
   "cell_type": "code",
   "execution_count": 25,
   "metadata": {},
   "outputs": [],
   "source": [
    "def performance(y_true, y_pred):\n",
    "    y_actu = pd.Series(y_true, name='Actual')\n",
    "    y_pred = pd.Series(y_pred, name='Predicted')\n",
    "    df_confusion = pd.crosstab(y_actu, y_pred)                            # confusion matrix\n",
    "    accuracy = np.diag(df_confusion).sum() / df_confusion.values.sum()    # accuracy\n",
    "    return df_confusion ,accuracy"
   ]
  },
  {
   "cell_type": "code",
   "execution_count": 26,
   "metadata": {},
   "outputs": [
    {
     "data": {
      "text/plain": [
       "(Predicted    0     1    2    3    4    5    6    7    8    9\n",
       " Actual                                                      \n",
       " 0          958     0    2    2    1    4    9    1    3    0\n",
       " 1            0  1102    2    4    1    3    4    1   18    0\n",
       " 2           11     7  901   15   16    1   15   18   40    8\n",
       " 3            4     1   21  911    0   28    3   13   19   10\n",
       " 4            1     3    6    1  915    0   10    1    8   37\n",
       " 5           11     4    3   39   11  760   16   10   30    8\n",
       " 6           14     3    4    3   12   13  906    1    2    0\n",
       " 7            2    15   23    7    8    0    0  936    3   34\n",
       " 8            8     9    7   26    8   23   13   14  854   12\n",
       " 9           11     8    4   12   43    9    0   22    5  895, 0.9138)"
      ]
     },
     "execution_count": 26,
     "metadata": {},
     "output_type": "execute_result"
    }
   ],
   "source": [
    "performance(Y_test,Y_pred)"
   ]
  },
  {
   "cell_type": "markdown",
   "metadata": {},
   "source": [
    "The diagonal of confusion matrix equals the number of prediction that is same with the actual number. Accuracy equals sum of the numbers in diagonal over total number, which is 0.9138 here."
   ]
  },
  {
   "cell_type": "markdown",
   "metadata": {},
   "source": [
    "### Performing penalised gradient descent"
   ]
  },
  {
   "cell_type": "markdown",
   "metadata": {},
   "source": [
    "For the penalised gradient descent we have performed it with different values of alpha and it turns out that smaller the alpha, higher the accuracy. Therefore, with the other parameters same as before, we have set alpha = 0.001."
   ]
  },
  {
   "cell_type": "code",
   "execution_count": 26,
   "metadata": {},
   "outputs": [],
   "source": [
    "def learning_by_penalised_gradient(y, tx, w, tau, alpha):\n",
    "    \"\"\"\n",
    "    Do one step of gradient descent, using the penalized logistic regression.\n",
    "    Return the loss and updated w.\n",
    "    \"\"\"\n",
    "    # ***************************************************\n",
    "    loss = calculate_loss(y, tx, w)\n",
    "    loss =  loss + alpha * np.sum(w[:,1:]**2)       # adding the penalising term\n",
    "    grad = calculate_gradient(y, tx, w)\n",
    "    w = w - tau * grad\n",
    "    w[:,1:] = w[:,1:] - tau*(alpha*w[:,1:])\n",
    "    # ***************************************************\n",
    "    #raise NotImplementedError\n",
    "    return loss, w"
   ]
  },
  {
   "cell_type": "code",
   "execution_count": 27,
   "metadata": {},
   "outputs": [
    {
     "data": {
      "application/vnd.jupyter.widget-view+json": {
       "model_id": "a3dbea46d3b94670952e8fd5be1ff00e",
       "version_major": 2,
       "version_minor": 0
      },
      "text/plain": [
       "HBox(children=(IntProgress(value=0, max=500), HTML(value='')))"
      ]
     },
     "metadata": {},
     "output_type": "display_data"
    },
    {
     "name": "stdout",
     "output_type": "stream",
     "text": [
      "Current iteration=0, loss=2.3025850929940455\n",
      "Current iteration=100, loss=0.4655248783743917\n",
      "Current iteration=200, loss=0.41691409946351227\n",
      "Current iteration=300, loss=0.3989859321358719\n",
      "loss=0.35257207399258184\n"
     ]
    }
   ],
   "source": [
    "def logistic_regression_penalised_gradient_descent_demo(y, x):\n",
    "    # init parameters\n",
    "    max_iter = 500\n",
    "    tau = 0.3\n",
    "    alpha = 0.001\n",
    "    threshold = 1e-4\n",
    "    losses = []\n",
    "\n",
    "    # build tx\n",
    "    tx = np.c_[np.ones((y.shape[0], 1)), x]\n",
    "    w = np.zeros((tx.shape[1], 10))\n",
    "\n",
    "    # start the logistic regression\n",
    "    for iter in tqdm_notebook(range(max_iter)):\n",
    "        # get loss and update w.\n",
    "        loss, w = learning_by_penalised_gradient(y, tx, w, tau, alpha)\n",
    "        # log info\n",
    "        if iter % 100 == 0:\n",
    "            print(\"Current iteration={i}, loss={l}\".format(i=iter, l=loss))\n",
    "        # converge criterion\n",
    "        losses.append(loss)\n",
    "        if len(losses) > 1 and np.abs(losses[-1] - losses[-2]) < threshold:\n",
    "            break\n",
    "    # visualization\n",
    "    #visualisation(y, x, mean_x, std_x, w, \"classification_by_logistic_regression_penalised_gradient_descent\")\n",
    "    print(\"loss={l}\".format(l=calculate_loss(y, tx, w)))\n",
    "    return w\n",
    "    \n",
    "w_plo = logistic_regression_penalised_gradient_descent_demo(labels_tr, X_train)"
   ]
  },
  {
   "cell_type": "markdown",
   "metadata": {},
   "source": [
    "### Prediction (penalised gradient descent)"
   ]
  },
  {
   "cell_type": "code",
   "execution_count": 28,
   "metadata": {},
   "outputs": [],
   "source": [
    "soft_test=softmax(tx_test.dot(w_plo))\n",
    "Y_pred = soft_test.argmax(axis=1)"
   ]
  },
  {
   "cell_type": "markdown",
   "metadata": {},
   "source": [
    "### Model performance (penalised gradient descent)"
   ]
  },
  {
   "cell_type": "code",
   "execution_count": 29,
   "metadata": {},
   "outputs": [
    {
     "data": {
      "text/plain": [
       "(Predicted    0     1    2    3    4    5    6    7    8    9\n",
       " Actual                                                      \n",
       " 0          958     0    2    2    1    4    9    1    3    0\n",
       " 1            0  1102    2    4    1    2    4    1   19    0\n",
       " 2           11     8  897   15   15    1   16   19   42    8\n",
       " 3            5     1   19  903    1   31    3   16   21   10\n",
       " 4            1     4    5    1  911    1   11    1    8   39\n",
       " 5           11     4    4   41   12  753   16   10   32    9\n",
       " 6           15     3    5    2   13   16  901    1    2    0\n",
       " 7            3    19   25    5   10    0    0  928    3   35\n",
       " 8            9     9    9   26    8   21   14   15  849   14\n",
       " 9           11     8    5   11   41   12    0   21    6  894, 0.9096)"
      ]
     },
     "execution_count": 29,
     "metadata": {},
     "output_type": "execute_result"
    }
   ],
   "source": [
    "performance(Y_test,Y_pred)"
   ]
  },
  {
   "cell_type": "markdown",
   "metadata": {},
   "source": [
    "<bk>\n",
    "With penalised logistic regression, we get a lower accuracy. We guess it is because some of the loss was distributed to the penalised term."
   ]
  },
  {
   "cell_type": "markdown",
   "metadata": {},
   "source": [
    "## Comparison & Conclusion"
   ]
  },
  {
   "cell_type": "markdown",
   "metadata": {},
   "source": [
    "The table given below shows the comparison between True-Positives produced by binary classifier and multi-classifier."
   ]
  },
  {
   "cell_type": "markdown",
   "metadata": {},
   "source": [
    "| Number(n) | Binary-class True Positive prediction | Multi-class True Positive prediction |\n",
    "|-----------|---------------------------------------|--------------------------------------|\n",
    "| 0         | 923                                   | 958                                  |\n",
    "| 1         | 1057                                  | 1102                                 |\n",
    "| 2         | 813                                   | 901                                  |\n",
    "| 3         | 780                                   | 911                                  |\n",
    "| 4         | 793                                   | 915                                  |\n",
    "| 5         | 584                                   | 760                                  |\n",
    "| 6         | 835                                   | 906                                  |\n",
    "| 7         | 869                                   | 936                                  |\n",
    "| 8         | 597                                   | 854                                  |\n",
    "| 9         | 707                                   | 895                                  |"
   ]
  },
  {
   "cell_type": "markdown",
   "metadata": {},
   "source": [
    "For all n, the number of true-positives produced by the multi-classifier is more than the number of True-positives produced by binary classifier. <br>\n",
    "So we conclude that multi-class classification model turned out to be better at training the MNIST handwritten dataset."
   ]
  },
  {
   "cell_type": "markdown",
   "metadata": {},
   "source": [
    "# Weights visualisation"
   ]
  },
  {
   "cell_type": "markdown",
   "metadata": {},
   "source": [
    "Since the weights that we calculated with the MNIST dataset could also be transformed to a $28\\times 28$ matrix (excluding the weight for the 1's column), we could visualise the weights and see how it looks like."
   ]
  },
  {
   "cell_type": "code",
   "execution_count": 31,
   "metadata": {},
   "outputs": [
    {
     "data": {
      "text/plain": [
       "<matplotlib.image.AxesImage at 0x19b040a3cc0>"
      ]
     },
     "execution_count": 31,
     "metadata": {},
     "output_type": "execute_result"
    },
    {
     "data": {
      "image/png": "[encoded data removed]",
      "text/plain": [
       "<Figure size 1080x576 with 10 Axes>"
      ]
     },
     "metadata": {
      "needs_background": "light"
     },
     "output_type": "display_data"
    }
   ],
   "source": [
    "plt.figure(figsize=(15, 8))\n",
    "\n",
    "plt.subplot(2,5,1)\n",
    "WeightsToVisualize = 0\n",
    "plt.imshow(np.reshape(w_lo[1:,WeightsToVisualize],(28,28)))\n",
    "plt.subplot(2,5,2)\n",
    "WeightsToVisualize = 1\n",
    "plt.imshow(np.reshape(w_lo[1:,WeightsToVisualize],(28,28)))\n",
    "plt.subplot(2,5,3)\n",
    "WeightsToVisualize = 2\n",
    "plt.imshow(np.reshape(w_lo[1:,WeightsToVisualize],(28,28)))\n",
    "plt.subplot(2,5,4)\n",
    "WeightsToVisualize = 3\n",
    "plt.imshow(np.reshape(w_lo[1:,WeightsToVisualize],(28,28)))\n",
    "plt.subplot(2,5,5)\n",
    "WeightsToVisualize = 4\n",
    "plt.imshow(np.reshape(w_lo[1:,WeightsToVisualize],(28,28)))\n",
    "\n",
    "plt.subplot(2,5,6)\n",
    "WeightsToVisualize = 5\n",
    "plt.imshow(np.reshape(w_lo[1:,WeightsToVisualize],(28,28)))\n",
    "plt.subplot(2,5,7)\n",
    "WeightsToVisualize = 6\n",
    "plt.imshow(np.reshape(w_lo[1:,WeightsToVisualize],(28,28)))\n",
    "plt.subplot(2,5,8)\n",
    "WeightsToVisualize = 7\n",
    "plt.imshow(np.reshape(w_lo[1:,WeightsToVisualize],(28,28)))\n",
    "plt.subplot(2,5,9)\n",
    "WeightsToVisualize = 8\n",
    "plt.imshow(np.reshape(w_lo[1:,WeightsToVisualize],(28,28)))\n",
    "plt.subplot(2,5,10)\n",
    "WeightsToVisualize = 9\n",
    "plt.imshow(np.reshape(w_lo[1:,WeightsToVisualize],(28,28)))\n"
   ]
  },
  {
   "cell_type": "markdown",
   "metadata": {},
   "source": [
    "It is interesting that the visualisation of weights actually looks like the shape of the number they are responsible at classifying. "
   ]
  }
 ],
 "metadata": {
  "kernelspec": {
   "display_name": "Python 3",
   "language": "python",
   "name": "python3"
  },
  "language_info": {
   "codemirror_mode": {
    "name": "ipython",
    "version": 3
   },
   "file_extension": ".py",
   "mimetype": "text/x-python",
   "name": "python",
   "nbconvert_exporter": "python",
   "pygments_lexer": "ipython3",
   "version": "3.7.1"
  }
 },
 "nbformat": 4,
 "nbformat_minor": 2
}
